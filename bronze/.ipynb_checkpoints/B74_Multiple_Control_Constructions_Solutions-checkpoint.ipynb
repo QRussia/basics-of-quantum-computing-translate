{
 "cells": [
  {
   "cell_type": "markdown",
   "metadata": {},
   "source": [
    "<table> <tr>\n",
    "        <td  style=\"background-color:#ffffff;\">\n",
    "            <a href=\"http://qworld.lu.lv\" target=\"_blank\"><img src=\"..\\images\\qworld.jpg\" width=\"25%\" align=\"left\"> </a></td>\n",
    "        <td style=\"background-color:#ffffff;vertical-align:bottom;text-align:right;\">\n",
    "            prepared by Maksim Dimitrijev (<a href=\"http://qworld.lu.lv/index.php/qlatvia/\" target=\"_blank\">QLatvia</a>)\n",
    "            <br> and <a href=\"http://abu.lu.lv\" target=\"_blank\">Abuzer Yakaryilmaz</a> (<a href=\"http://qworld.lu.lv/index.php/qlatvia/\" target=\"_blank\">QLatvia</a>)\n",
    "        </td>        \n",
    "</tr></table>"
   ]
  },
  {
   "cell_type": "markdown",
   "metadata": {},
   "source": [
    "<table width=\"100%\"><tr><td style=\"color:#bbbbbb;background-color:#ffffff;font-size:11px;font-style:italic;text-align:right;\">This cell contains some macros. If there is a problem with displaying mathematical formulas, please run this cell to load these macros. </td></tr></table>\n",
    "$ \\newcommand{\\bra}[1]{\\langle #1|} $\n",
    "$ \\newcommand{\\ket}[1]{|#1\\rangle} $\n",
    "$ \\newcommand{\\braket}[2]{\\langle #1|#2\\rangle} $\n",
    "$ \\newcommand{\\dot}[2]{ #1 \\cdot #2} $\n",
    "$ \\newcommand{\\biginner}[2]{\\left\\langle #1,#2\\right\\rangle} $\n",
    "$ \\newcommand{\\mymatrix}[2]{\\left( \\begin{array}{#1} #2\\end{array} \\right)} $\n",
    "$ \\newcommand{\\myvector}[1]{\\mymatrix{c}{#1}} $\n",
    "$ \\newcommand{\\myrvector}[1]{\\mymatrix{r}{#1}} $\n",
    "$ \\newcommand{\\mypar}[1]{\\left( #1 \\right)} $\n",
    "$ \\newcommand{\\mybigpar}[1]{ \\Big( #1 \\Big)} $\n",
    "$ \\newcommand{\\sqrttwo}{\\frac{1}{\\sqrt{2}}} $\n",
    "$ \\newcommand{\\dsqrttwo}{\\dfrac{1}{\\sqrt{2}}} $\n",
    "$ \\newcommand{\\onehalf}{\\frac{1}{2}} $\n",
    "$ \\newcommand{\\donehalf}{\\dfrac{1}{2}} $\n",
    "$ \\newcommand{\\hadamard}{ \\mymatrix{rr}{ \\sqrttwo & \\sqrttwo \\\\ \\sqrttwo & -\\sqrttwo }} $\n",
    "$ \\newcommand{\\vzero}{\\myvector{1\\\\0}} $\n",
    "$ \\newcommand{\\vone}{\\myvector{0\\\\1}} $\n",
    "$ \\newcommand{\\stateplus}{\\myvector{ \\sqrttwo \\\\  \\sqrttwo } } $\n",
    "$ \\newcommand{\\stateminus}{ \\myrvector{ \\sqrttwo \\\\ -\\sqrttwo } } $\n",
    "$ \\newcommand{\\myarray}[2]{ \\begin{array}{#1}#2\\end{array}} $\n",
    "$ \\newcommand{\\X}{ \\mymatrix{cc}{0 & 1 \\\\ 1 & 0}  } $\n",
    "$ \\newcommand{\\I}{ \\mymatrix{rr}{1 & 0 \\\\ 0 & 1}  } $\n",
    "$ \\newcommand{\\Z}{ \\mymatrix{rr}{1 & 0 \\\\ 0 & -1}  } $\n",
    "$ \\newcommand{\\Htwo}{ \\mymatrix{rrrr}{ \\frac{1}{2} & \\frac{1}{2} & \\frac{1}{2} & \\frac{1}{2} \\\\ \\frac{1}{2} & -\\frac{1}{2} & \\frac{1}{2} & -\\frac{1}{2} \\\\ \\frac{1}{2} & \\frac{1}{2} & -\\frac{1}{2} & -\\frac{1}{2} \\\\ \\frac{1}{2} & -\\frac{1}{2} & -\\frac{1}{2} & \\frac{1}{2} } } $\n",
    "$ \\newcommand{\\CNOT}{ \\mymatrix{cccc}{1 & 0 & 0 & 0 \\\\ 0 & 1 & 0 & 0 \\\\ 0 & 0 & 0 & 1 \\\\ 0 & 0 & 1 & 0} } $\n",
    "$ \\newcommand{\\norm}[1]{ \\left\\lVert #1 \\right\\rVert } $\n",
    "$ \\newcommand{\\pstate}[1]{ \\lceil \\mspace{-1mu} #1 \\mspace{-1.5mu} \\rfloor } $\n",
    "$ \\newcommand{\\greenbit}[1] {\\mathbf{{\\color{green}#1}}} $\n",
    "$ \\newcommand{\\bluebit}[1] {\\mathbf{{\\color{blue}#1}}} $\n",
    "$ \\newcommand{\\redbit}[1] {\\mathbf{{\\color{red}#1}}} $\n",
    "$ \\newcommand{\\brownbit}[1] {\\mathbf{{\\color{brown}#1}}} $\n",
    "$ \\newcommand{\\blackbit}[1] {\\mathbf{{\\color{black}#1}}} $"
   ]
  },
  {
   "cell_type": "markdown",
   "metadata": {},
   "source": [
    "<h2> <font color=\"blue\"> Solutions for </font> Multiple Control Constructions</h2>"
   ]
  },
  {
   "cell_type": "markdown",
   "metadata": {},
   "source": [
    "<a id=\"task1\"></a>\n",
    "<h3> Task 1 </h3>\n",
    "\n",
    "Implement each of the following operators in Qiskit by using three qubits. Verify your implementation by using \"unitary_simulator\" backend. <br><br>\n",
    "\n",
    "<font size=\"-2\">\n",
    "$$\n",
    "    C_0C_0NOT = \\mymatrix{cc|cc|cc|cc}{0 & \\bluebit{1} & 0 & 0 & 0 & 0 & 0 & 0 \\\\ \\bluebit{1} & 0 & 0 & 0 & 0 & 0 & 0 & 0 \\\\ \\hline 0 & 0 & \\blackbit{1} & 0 & 0 & 0 & 0 & 0 \\\\ 0 & 0 & 0 & \\blackbit{1} & 0 & 0 & 0 & 0 \\\\ \\hline 0 & 0 & 0 & 0 & \\blackbit{1} & 0 & 0 & 0 \\\\ 0 & 0 & 0 & 0 & 0 & \\blackbit{1} & 0 & 0 \\\\ \\hline 0 & 0 & 0 & 0 & 0 & 0 & \\blackbit{1} & 0 \\\\ 0 & 0 & 0 & 0 & 0 & 0 & 0 & \\blackbit{1}}, ~~\n",
    "    C_0C_1NOT = \\mymatrix{cc|cc|cc|cc}{ \\blackbit{1} & 0 & 0 & 0 & 0 & 0 & 0 & 0 \\\\ 0 & \\blackbit{1} & 0 & 0 & 0 & 0 & 0 & 0 \\\\ \\hline 0 & 0 & 0 & \\bluebit{1}  & 0 & 0 & 0 & 0 \\\\ 0 & 0 & \\bluebit{1}  & 0 & 0 & 0 & 0 & 0 \\\\ \\hline 0 & 0 & 0 & 0 & \\blackbit{1} & 0 & 0 & 0 \\\\ 0 & 0 & 0 & 0 & 0 & \\blackbit{1} & 0 & 0 \\\\ \\hline 0 & 0 & 0 & 0 & 0 & 0 & \\blackbit{1} & 0 \\\\ 0 & 0 & 0 & 0 & 0 & 0 & 0 & \\blackbit{1}}, ~~ \\mbox{and} ~~\n",
    "    C_1C_0NOT = \\mymatrix{cc|cc|cc|cc}{\\blackbit{1} & 0 & 0 & 0 & 0 & 0 & 0 & 0 \\\\ 0 & \\blackbit{1} & 0 & 0 & 0 & 0 & 0 & 0 \\\\ \\hline 0 & 0 & \\blackbit{1} & 0 & 0 & 0 & 0 & 0 \\\\ 0 & 0 & 0 & \\blackbit{1} & 0 & 0 & 0 & 0 \\\\ \\hline 0 & 0 & 0 & 0 & 0 & \\bluebit{1} & 0 & 0 \\\\ 0 & 0 & 0 & 0 & \\bluebit{1} & 0 & 0 & 0 \\\\ \\hline 0 & 0 & 0 & 0 & 0 & 0 & \\blackbit{1} & 0 \\\\ 0 & 0 & 0 & 0 & 0 & 0 & 0 & \\blackbit{1}}.   \n",
    "$$\n",
    "    </font>"
   ]
  },
  {
   "cell_type": "markdown",
   "metadata": {},
   "source": [
    "<h3>Solution</h3>"
   ]
  },
  {
   "cell_type": "markdown",
   "metadata": {},
   "source": [
    "#### Implementation of $ C_0C_0NOT $ operator"
   ]
  },
  {
   "cell_type": "code",
   "execution_count": 3,
   "metadata": {},
   "outputs": [
    {
     "name": "stdout",
     "output_type": "stream",
     "text": [
      "CCNOT(00) = \n",
      "0.0  1.0  0.0  0.0  0.0  0.0  0.0  0.0  \n",
      "1.0  0.0  0.0  0.0  0.0  0.0  0.0  0.0  \n",
      "0.0  0.0  1.0  0.0  0.0  0.0  0.0  0.0  \n",
      "0.0  0.0  0.0  1.0  0.0  0.0  0.0  0.0  \n",
      "0.0  0.0  0.0  0.0  1.0  0.0  0.0  0.0  \n",
      "0.0  0.0  0.0  0.0  0.0  1.0  0.0  0.0  \n",
      "0.0  0.0  0.0  0.0  0.0  0.0  1.0  0.0  \n",
      "0.0  0.0  0.0  0.0  0.0  0.0  0.0  1.0  \n"
     ]
    },
    {
     "data": {
      "image/png": "[encoded data removed]",
      "text/plain": [
       "<Figure size 358.792x264.88 with 1 Axes>"
      ]
     },
     "execution_count": 3,
     "metadata": {},
     "output_type": "execute_result"
    }
   ],
   "source": [
    "from qiskit import QuantumRegister, ClassicalRegister, QuantumCircuit, execute, Aer\n",
    "\n",
    "q =  QuantumRegister(3,\"q\")\n",
    "c = ClassicalRegister(3,\"c\")\n",
    "\n",
    "qc = QuantumCircuit(q,c)\n",
    "\n",
    "qc.x(q[2])\n",
    "qc.x(q[1])\n",
    "qc.ccx(q[2],q[1],q[0])\n",
    "qc.x(q[2])\n",
    "qc.x(q[1])\n",
    "\n",
    "job = execute(qc,Aer.get_backend('unitary_simulator'), shots = 1)\n",
    "U=job.result().get_unitary(qc,decimals=3)\n",
    "\n",
    "print(\"CCNOT(00) = \")\n",
    "for row in U:\n",
    "    s = \"\"\n",
    "    for value in row:\n",
    "        s = s + str(round(value.real,2)) + \"  \"\n",
    "    print(s)\n",
    "\n",
    "\n",
    "\n",
    "qc.draw(output=\"mpl\",reverse_bits=True)"
   ]
  },
  {
   "cell_type": "markdown",
   "metadata": {},
   "source": [
    "#### Implementation of $ C_0C_1NOT $ operator"
   ]
  },
  {
   "cell_type": "code",
   "execution_count": null,
   "metadata": {},
   "outputs": [],
   "source": [
    "from qiskit import QuantumRegister, ClassicalRegister, QuantumCircuit, execute, Aer\n",
    "\n",
    "q =  QuantumRegister(3,\"q\")\n",
    "c = ClassicalRegister(3,\"c\")\n",
    "\n",
    "qc = QuantumCircuit(q,c)\n",
    "\n",
    "qc.x(q[2])\n",
    "qc.ccx(q[2],q[1],q[0])\n",
    "qc.x(q[2])\n",
    "\n",
    "job = execute(qc,Aer.get_backend('unitary_simulator'), shots = 1)\n",
    "U=job.result().get_unitary(qc,decimals=3)\n",
    "\n",
    "print(\"CCNOT(01) = \")\n",
    "for row in U:\n",
    "    s = \"\"\n",
    "    for value in row:\n",
    "        s = s + str(round(value.real,2)) + \"  \"\n",
    "    print(s)\n",
    "\n",
    "\n",
    "\n",
    "qc.draw(output=\"mpl\",reverse_bits=True)"
   ]
  },
  {
   "cell_type": "markdown",
   "metadata": {},
   "source": [
    "#### Implementation of $ C_1C_0NOT $ operator"
   ]
  },
  {
   "cell_type": "code",
   "execution_count": null,
   "metadata": {},
   "outputs": [],
   "source": [
    "from qiskit import QuantumRegister, ClassicalRegister, QuantumCircuit, execute, Aer\n",
    "\n",
    "q =  QuantumRegister(3,\"q\")\n",
    "c = ClassicalRegister(3,\"c\")\n",
    "\n",
    "qc = QuantumCircuit(q,c)\n",
    "\n",
    "qc.x(q[1])\n",
    "qc.ccx(q[2],q[1],q[0])\n",
    "qc.x(q[1])\n",
    "\n",
    "job = execute(qc,Aer.get_backend('unitary_simulator'), shots = 1)\n",
    "U=job.result().get_unitary(qc,decimals=3)\n",
    "\n",
    "print(\"CCNOT(10) = \")\n",
    "for row in U:\n",
    "    s = \"\"\n",
    "    for value in row:\n",
    "        s = s + str(round(value.real,2)) + \"  \"\n",
    "    print(s)\n",
    "\n",
    "\n",
    "\n",
    "qc.draw(output=\"mpl\",reverse_bits=True)"
   ]
  },
  {
   "cell_type": "markdown",
   "metadata": {},
   "source": [
    "<a id=\"task2\"></a>\n",
    "<h3>Task 2</h3>\n",
    "\n",
    "Provide an implement of the NOT operator controlled by 4 qubits ($CCCCNOT$) in Qiskit. Verify its correctness by executing your solution on all possible inputs. (See the above example)\n",
    "\n",
    "*You may use two auxiliary qubits.*"
   ]
  },
  {
   "cell_type": "markdown",
   "metadata": {},
   "source": [
    "<h3>Solution</h3>"
   ]
  },
  {
   "cell_type": "markdown",
   "metadata": {},
   "source": [
    "#### Desinging the operator"
   ]
  },
  {
   "cell_type": "code",
   "execution_count": null,
   "metadata": {},
   "outputs": [],
   "source": [
    "from qiskit import QuantumRegister, ClassicalRegister, QuantumCircuit, execute, Aer\n",
    "\n",
    "qaux = QuantumRegister(2,\"qaux\")\n",
    "q = QuantumRegister(5,\"q\")\n",
    "c = ClassicalRegister(5,\"c\")\n",
    "qc = QuantumCircuit(q,qaux,c)\n",
    "\n",
    "qc.ccx(q[4],q[3],qaux[1])\n",
    "qc.ccx(q[2],q[1],qaux[0])\n",
    "qc.ccx(qaux[1],qaux[0],q[0])\n",
    "qc.ccx(q[4],q[3],qaux[1])\n",
    "qc.ccx(q[2],q[1],qaux[0])\n",
    "\n",
    "qc.draw(output=\"mpl\",reverse_bits=True)"
   ]
  },
  {
   "cell_type": "markdown",
   "metadata": {},
   "source": [
    "#### Executing this circuit on every possible inputs and verify the correctness of the implementation experimentially."
   ]
  },
  {
   "cell_type": "code",
   "execution_count": null,
   "metadata": {},
   "outputs": [],
   "source": [
    "from qiskit import QuantumRegister, ClassicalRegister, QuantumCircuit, execute, Aer\n",
    "\n",
    "all_inputs=[]\n",
    "for q4 in ['0','1']: \n",
    "    for q3 in ['0','1']:\n",
    "        for q2 in ['0','1']:\n",
    "            for q1 in ['0','1']:\n",
    "                for q0 in ['0','1']:\n",
    "                    all_inputs.append(q4+q3+q2+q1+q0)\n",
    "#print(all_inputs)  \n",
    "\n",
    "print(\"input --> output\")\n",
    "for the_input in all_inputs:\n",
    "    # create the circuit\n",
    "    qaux = QuantumRegister(2,\"qaux\")\n",
    "    q = QuantumRegister(5,\"q\")\n",
    "    c = ClassicalRegister(5,\"c\")\n",
    "    qc = QuantumCircuit(q,qaux,c)\n",
    "    # set the initial value of the circuit w.r.t. the input\n",
    "    if the_input[0] =='1': qc.x(q[4])\n",
    "    if the_input[1] =='1': qc.x(q[3])\n",
    "    if the_input[2] =='1': qc.x(q[2])\n",
    "    if the_input[3] =='1': qc.x(q[1])\n",
    "    if the_input[4] =='1': qc.x(q[0])\n",
    "    # implement the CCNOT gates\n",
    "    qc.ccx(q[4],q[3],qaux[1])\n",
    "    qc.ccx(q[2],q[1],qaux[0])\n",
    "    qc.ccx(qaux[1],qaux[0],q[0])\n",
    "    qc.ccx(q[4],q[3],qaux[1])\n",
    "    qc.ccx(q[2],q[1],qaux[0])\n",
    "    # measure the main quantum register \n",
    "    qc.measure(q,c)\n",
    "    # execute the circuit\n",
    "    job = execute(qc,Aer.get_backend('qasm_simulator'),shots=1)\n",
    "    counts = job.result().get_counts(qc)\n",
    "    for key in counts: the_output = key\n",
    "    printed_str = the_input[0:4]+\" \"+the_input[4]+\" --> \"+the_output[0:4]+\" \"+the_output[4]\n",
    "    if (the_input!=the_output): printed_str = printed_str + \" the output is different than the input\"\n",
    "    print(printed_str)"
   ]
  },
  {
   "cell_type": "markdown",
   "metadata": {},
   "source": [
    "<a id=\"task3\"></a>\n",
    "<h3>Task 3</h3>\n",
    "\n",
    "Repeat Task 2 for the operator $C_1C_0C_1C_0NOT$: $NOT$ operator is applied to the target qubit if the four control qubits are in state $ \\ket{1010} $."
   ]
  },
  {
   "cell_type": "markdown",
   "metadata": {},
   "source": [
    "<h3>Solution</h3>"
   ]
  },
  {
   "cell_type": "markdown",
   "metadata": {},
   "source": [
    "#### Desinging the operator"
   ]
  },
  {
   "cell_type": "code",
   "execution_count": null,
   "metadata": {},
   "outputs": [],
   "source": [
    "from qiskit import QuantumRegister, ClassicalRegister, QuantumCircuit, execute, Aer\n",
    "\n",
    "qaux = QuantumRegister(2,\"qaux\")\n",
    "q = QuantumRegister(5,\"q\")\n",
    "c = ClassicalRegister(5,\"c\")\n",
    "qc = QuantumCircuit(q,qaux,c)\n",
    "\n",
    "qc.x(q[3])\n",
    "qc.x(q[1])\n",
    "qc.ccx(q[4],q[3],qaux[1])\n",
    "qc.ccx(q[2],q[1],qaux[0])\n",
    "qc.ccx(qaux[1],qaux[0],q[0])\n",
    "qc.ccx(q[4],q[3],qaux[1])\n",
    "qc.ccx(q[2],q[1],qaux[0])\n",
    "qc.x(q[3])\n",
    "qc.x(q[1])\n",
    "\n",
    "qc.draw(output=\"mpl\",reverse_bits=True)"
   ]
  },
  {
   "cell_type": "markdown",
   "metadata": {},
   "source": [
    "#### Executing this circuit on every possible inputs and verify the correctness of the implementation experimentially."
   ]
  },
  {
   "cell_type": "code",
   "execution_count": null,
   "metadata": {},
   "outputs": [],
   "source": [
    "from qiskit import QuantumRegister, ClassicalRegister, QuantumCircuit, execute, Aer\n",
    "\n",
    "all_inputs=[]\n",
    "for q4 in ['0','1']: \n",
    "    for q3 in ['0','1']:\n",
    "        for q2 in ['0','1']:\n",
    "            for q1 in ['0','1']:\n",
    "                for q0 in ['0','1']:\n",
    "                    all_inputs.append(q4+q3+q2+q1+q0)\n",
    "#print(all_inputs)  \n",
    "\n",
    "print(\"input --> output\")\n",
    "for the_input in all_inputs:\n",
    "    # create the circuit\n",
    "    qaux = QuantumRegister(2,\"qaux\")\n",
    "    q = QuantumRegister(5,\"q\")\n",
    "    c = ClassicalRegister(5,\"c\")\n",
    "    qc = QuantumCircuit(q,qaux,c)\n",
    "    # set the initial value of the circuit w.r.t. the input\n",
    "    if the_input[0] =='1': qc.x(q[4])\n",
    "    if the_input[1] =='1': qc.x(q[3])\n",
    "    if the_input[2] =='1': qc.x(q[2])\n",
    "    if the_input[3] =='1': qc.x(q[1])\n",
    "    if the_input[4] =='1': qc.x(q[0])\n",
    "    # implement the CCNOT gates\n",
    "    qc.x(q[3])\n",
    "    qc.x(q[1])\n",
    "    qc.ccx(q[4],q[3],qaux[1])\n",
    "    qc.ccx(q[2],q[1],qaux[0])\n",
    "    qc.ccx(qaux[1],qaux[0],q[0])\n",
    "    qc.ccx(q[4],q[3],qaux[1])\n",
    "    qc.ccx(q[2],q[1],qaux[0])\n",
    "    qc.x(q[3])\n",
    "    qc.x(q[1])\n",
    "    # measure the main quantum register \n",
    "    qc.measure(q,c)\n",
    "    # execute the circuit\n",
    "    job = execute(qc,Aer.get_backend('qasm_simulator'),shots=1)\n",
    "    counts = job.result().get_counts(qc)\n",
    "    for key in counts: the_output = key\n",
    "    printed_str = the_input[0:4]+\" \"+the_input[4]+\" --> \"+the_output[0:4]+\" \"+the_output[4]\n",
    "    if (the_input!=the_output): printed_str = printed_str + \" the output is different than the input\"\n",
    "    print(printed_str)"
   ]
  },
  {
   "cell_type": "markdown",
   "metadata": {},
   "source": [
    "<a id=\"task4\"></a>\n",
    "<h3>Task 4 (extra)</h3>\n",
    "\n",
    "Write a function taking a binary string \"$ b_1 b_2 b_3 b_4$ that repeats Task 2 for the operator $ C_{b_1}C_{b_2}C_{b_3}C_{b_4}NOT $ gate, where $ b_1,\\ldots,b_4$ are bits and $ NOT $ operator is applied to target qubit if the control qubits are in state $ \\ket{b_1b_2b_3b_4} $."
   ]
  },
  {
   "cell_type": "markdown",
   "metadata": {},
   "source": [
    "<h3>Solution</h3>"
   ]
  },
  {
   "cell_type": "code",
   "execution_count": null,
   "metadata": {},
   "outputs": [],
   "source": [
    "from qiskit import QuantumRegister, ClassicalRegister, QuantumCircuit, execute, Aer\n",
    "\n",
    "all_inputs=[]\n",
    "for q4 in ['0','1']: \n",
    "    for q3 in ['0','1']:\n",
    "        for q2 in ['0','1']:\n",
    "            for q1 in ['0','1']:\n",
    "                for q0 in ['0','1']:\n",
    "                    all_inputs.append(q4+q3+q2+q1+q0)\n",
    "#print(all_inputs)  \n",
    "\n",
    "\n",
    "def c4not(control_state='1111'):\n",
    "    #\n",
    "    # drawing the circuit\n",
    "    #\n",
    "    print(\"Control state is\",control_state)\n",
    "    print(\"Drawing the circuit:\")\n",
    "    qaux = QuantumRegister(2,\"qaux\")\n",
    "    q = QuantumRegister(5,\"q\")\n",
    "    c = ClassicalRegister(5,\"c\")\n",
    "    qc = QuantumCircuit(q,qaux,c)\n",
    "\n",
    "    for b in range(4):\n",
    "        if control_state[b] == '0':\n",
    "            qc.x(q[4-b])\n",
    "    qc.ccx(q[4],q[3],qaux[1])\n",
    "    qc.ccx(q[2],q[1],qaux[0])\n",
    "    qc.ccx(qaux[1],qaux[0],q[0])\n",
    "    qc.ccx(q[4],q[3],qaux[1])\n",
    "    qc.ccx(q[2],q[1],qaux[0])\n",
    "    for b in range(4):\n",
    "        if control_state[b] == '0':\n",
    "            qc.x(q[4-b])\n",
    "            \n",
    "    display(qc.draw(output=\"mpl\",reverse_bits=True))\n",
    "    \n",
    "    #\n",
    "    # executing the operator on all possible inputs\n",
    "    #\n",
    "    print(\"Control state is\",control_state)\n",
    "    print(\"input --> output\")\n",
    "    for the_input in all_inputs:\n",
    "        # create the circuit\n",
    "        qaux = QuantumRegister(2,\"qaux\")\n",
    "        q = QuantumRegister(5,\"q\")\n",
    "        c = ClassicalRegister(5,\"c\")\n",
    "        qc = QuantumCircuit(q,qaux,c)\n",
    "        # set the initial value of the circuit w.r.t. the input\n",
    "        if the_input[0] =='1': qc.x(q[4])\n",
    "        if the_input[1] =='1': qc.x(q[3])\n",
    "        if the_input[2] =='1': qc.x(q[2])\n",
    "        if the_input[3] =='1': qc.x(q[1])\n",
    "        if the_input[4] =='1': qc.x(q[0])\n",
    "        # implement the CCNOT gates\n",
    "        for b in range(4):\n",
    "            if control_state[b] == '0':\n",
    "                qc.x(q[4-b])\n",
    "        qc.ccx(q[4],q[3],qaux[1])\n",
    "        qc.ccx(q[2],q[1],qaux[0])\n",
    "        qc.ccx(qaux[1],qaux[0],q[0])\n",
    "        qc.ccx(q[4],q[3],qaux[1])\n",
    "        qc.ccx(q[2],q[1],qaux[0])\n",
    "        for b in range(4):\n",
    "            if control_state[b] == '0':\n",
    "                qc.x(q[4-b])\n",
    "        # measure the main quantum register \n",
    "        qc.measure(q,c)\n",
    "        # execute the circuit\n",
    "        job = execute(qc,Aer.get_backend('qasm_simulator'),shots=1)\n",
    "        counts = job.result().get_counts(qc)\n",
    "        for key in counts: the_output = key\n",
    "        printed_str = the_input[0:4]+\" \"+the_input[4]+\" --> \"+the_output[0:4]+\" \"+the_output[4]\n",
    "        if (the_input!=the_output): printed_str = printed_str + \" the output is different than the input\"\n",
    "        print(printed_str)"
   ]
  },
  {
   "cell_type": "code",
   "execution_count": null,
   "metadata": {},
   "outputs": [],
   "source": [
    "# try different values\n",
    "\n",
    "#c4not('1001')\n",
    "c4not('0011')\n",
    "#c4not('1101')\n",
    "#c4not('0000')"
   ]
  }
 ],
 "metadata": {
  "kernelspec": {
   "display_name": "Python 3",
   "language": "python",
   "name": "python3"
  },
  "language_info": {
   "codemirror_mode": {
    "name": "ipython",
    "version": 3
   },
   "file_extension": ".py",
   "mimetype": "text/x-python",
   "name": "python",
   "nbconvert_exporter": "python",
   "pygments_lexer": "ipython3",
   "version": "3.7.6"
  }
 },
 "nbformat": 4,
 "nbformat_minor": 2
}
