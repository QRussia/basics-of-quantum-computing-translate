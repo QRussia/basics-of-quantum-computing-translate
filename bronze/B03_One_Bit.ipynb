{
 "cells": [
  {
   "cell_type": "markdown",
   "metadata": {},
   "source": [
    "<table width=\"100%\"> <tr>\n",
    "        <td  style=\"background-color:#ffffff;\">\n",
    "            <a href=\"http://qworld.lu.lv\" target=\"_blank\"><img src=\"..\\images\\qworld.jpg\" width=\"35%\" align=\"left\"> </a></td>\n",
    "        <td style=\"background-color:#ffffff;vertical-align:bottom;text-align:right;\">\n",
    "            prepared by Abuzer Yakaryilmaz (<a href=\"http://qworld.lu.lv/index.php/qlatvia/\" target=\"_blank\">QLatvia</a>)\n",
    "        </td>        \n",
    "</tr></table>"
   ]
  },
  {
   "cell_type": "markdown",
   "metadata": {},
   "source": [
    "<table width=\"100%\"><tr><td style=\"color:#bbbbbb;background-color:#ffffff;font-size:11px;font-style:italic;text-align:right;\">This cell contains some macros. If there is a problem with displaying mathematical formulas, please run this cell to load these macros. </td></tr></table>\n",
    "$ \\newcommand{\\bra}[1]{\\langle #1|} $\n",
    "$ \\newcommand{\\ket}[1]{|#1\\rangle} $\n",
    "$ \\newcommand{\\braket}[2]{\\langle #1|#2\\rangle} $\n",
    "$ \\newcommand{\\dot}[2]{ #1 \\cdot #2} $\n",
    "$ \\newcommand{\\biginner}[2]{\\left\\langle #1,#2\\right\\rangle} $\n",
    "$ \\newcommand{\\mymatrix}[2]{\\left( \\begin{array}{#1} #2\\end{array} \\right)} $\n",
    "$ \\newcommand{\\myvector}[1]{\\mymatrix{c}{#1}} $\n",
    "$ \\newcommand{\\myrvector}[1]{\\mymatrix{r}{#1}} $\n",
    "$ \\newcommand{\\mypar}[1]{\\left( #1 \\right)} $\n",
    "$ \\newcommand{\\mybigpar}[1]{ \\Big( #1 \\Big)} $\n",
    "$ \\newcommand{\\sqrttwo}{\\frac{1}{\\sqrt{2}}} $\n",
    "$ \\newcommand{\\dsqrttwo}{\\dfrac{1}{\\sqrt{2}}} $\n",
    "$ \\newcommand{\\onehalf}{\\frac{1}{2}} $\n",
    "$ \\newcommand{\\donehalf}{\\dfrac{1}{2}} $\n",
    "$ \\newcommand{\\hadamard}{ \\mymatrix{rr}{ \\sqrttwo & \\sqrttwo \\\\ \\sqrttwo & -\\sqrttwo }} $\n",
    "$ \\newcommand{\\vzero}{\\myvector{1\\\\0}} $\n",
    "$ \\newcommand{\\vone}{\\myvector{0\\\\1}} $\n",
    "$ \\newcommand{\\vhadamardzero}{\\myvector{ \\sqrttwo \\\\  \\sqrttwo } } $\n",
    "$ \\newcommand{\\vhadamardone}{ \\myrvector{ \\sqrttwo \\\\ -\\sqrttwo } } $\n",
    "$ \\newcommand{\\myarray}[2]{ \\begin{array}{#1}#2\\end{array}} $\n",
    "$ \\newcommand{\\X}{ \\mymatrix{cc}{0 & 1 \\\\ 1 & 0}  } $\n",
    "$ \\newcommand{\\Z}{ \\mymatrix{rr}{1 & 0 \\\\ 0 & -1}  } $\n",
    "$ \\newcommand{\\Htwo}{ \\mymatrix{rrrr}{ \\frac{1}{2} & \\frac{1}{2} & \\frac{1}{2} & \\frac{1}{2} \\\\ \\frac{1}{2} & -\\frac{1}{2} & \\frac{1}{2} & -\\frac{1}{2} \\\\ \\frac{1}{2} & \\frac{1}{2} & -\\frac{1}{2} & -\\frac{1}{2} \\\\ \\frac{1}{2} & -\\frac{1}{2} & -\\frac{1}{2} & \\frac{1}{2} } } $\n",
    "$ \\newcommand{\\CNOT}{ \\mymatrix{cccc}{1 & 0 & 0 & 0 \\\\ 0 & 1 & 0 & 0 \\\\ 0 & 0 & 0 & 1 \\\\ 0 & 0 & 1 & 0} } $\n",
    "$ \\newcommand{\\norm}[1]{ \\left\\lVert #1 \\right\\rVert } $"
   ]
  },
  {
   "cell_type": "markdown",
   "metadata": {},
   "source": [
    "<h2> Один бит </h2>\n",
    "\n",
    "[Смотреть лекцию](https://youtu.be/kn53Qvl-h28)\n",
    "\n",
    "В повседневной жизни мы используем десятичную систему счисления. Так же она называется системой счисления по основанию 10, так как она содержит 10 цифр:\n",
    "\n",
    "$ 0,~1,~2,~3,~4,~5,~6,~7,~8, \\mbox{ и } 9  $.\n",
    "\n",
    "В компьютерных науках, с другой стороны, широко используется бинарная система счисления, которая содержит две цифры:\n",
    "\n",
    "$ 0 $ и $ 1 $.\n",
    "\n",
    "Бит (от binary digit) базовая единица информации в компьютерных науках и теории информации. \n",
    "\n",
    "Бит также может быть рассмотрена как минимальная \"полезная\" единица памяти, имеющая два состояния, обозначаемые как 0 и 1. \n",
    "\n",
    "В любой момент времени, бит может принимать только одно состояние, 0 или 1."
   ]
  },
  {
   "cell_type": "markdown",
   "metadata": {},
   "source": [
    "<h3> Четыре оператора </h3>\n",
    "\n",
    "Сколько различных операторов могут быть определены для одного бита?\n",
    "\n",
    "<i>Оператор, в зависимости от текущего состояния бита, меняет состояние бита на новое (хотя, состояние бита после применения оператора может и не поменяться). Оператор можно рассмативать как функцию, которая, получая на вход некое состояние (или значение), возвращает новое состояние.</i> \n",
    "\n",
    "Мы можем применить четыре разных оператора к одному биту:\n",
    "<ol>\n",
    "    <li> Identity (Тождественность): $ I(0) = 0 $ и $ I(1) = 1 $ </li>\n",
    "    <li> Negation (Отрицание): $ NOT(0) = 1 $ и $ NOT(1) = 0 $ </li>\n",
    "    <li> Constant (Ноль): $ ZERO(0) = 0 $ и $ ZERO(1) = 0 $ </li>\n",
    "    <li> Constant (Единица): $ ONE(0) = 1 $ и $ ONE(1) = 1 $ </li>\n",
    "</ol>\n",
    "Первый оператор называется оператором Тождественности, так как он не меняет состояние бита.\n",
    "\n",
    "Второй оператор -- оператор NOT (или НЕ), данные оператор изменяет состояние бита на противоположное. \n",
    "\n",
    "<i>Отметим, что состояния бита 0 и 1 можно заменить булевскими значениями False (Ложь) и True (Истина), соответственно. False - это отрицание True и, наоборот, True - отрицание False.</i>\n",
    "\n",
    "Третий (соответственно и четвертый) оператор возвращает константное значение 0 (соот., 1), вне зависимости от входного значения."
   ]
  },
  {
   "cell_type": "markdown",
   "metadata": {},
   "source": [
    "<h3> Табличное представление </h3>\n",
    "\n",
    "Мы можем представить действия каждого оператора в виде таблицы:\n",
    "\n",
    "$\n",
    "I = \\begin{array}{lc|cc} \n",
    "    & & начальные & состояния \\\\ \n",
    "    & & \\mathbf{0} & \\mathbf{1} \\\\ \\hline \n",
    "    конечные & \\mathbf{0} & \\mbox{goes-to} & \\emptyset \\\\  \n",
    "    состояния & \\mathbf{1} & \\emptyset & \\mbox{goes-to}  \\end{array} ,\n",
    "$\n",
    "где \n",
    "- заголовок (первая строка) представляет начальные значения, и\n",
    "- первый столбец представляет конечные значения.\n",
    "\n",
    "Также переходы можно отобразить числами:\n",
    "- 1, если есть переход между двумя значениями, and, \n",
    "- 0, если нет перехода между двумя значениями.\n",
    "\n",
    "$\n",
    "I = \\begin{array}{lc|cc} \n",
    "    & & начальные & состояния \\\\ \n",
    "    & & \\mathbf{0} & \\mathbf{1} \\\\ \\hline \n",
    "    конечные & \\mathbf{0} & 1 & 0 \\\\  \n",
    "    состояния & \\mathbf{1} & 0 & 1  \\end{array}\n",
    "$"
   ]
  },
  {
   "cell_type": "markdown",
   "metadata": {},
   "source": [
    "Значение, выделенные <b>жирным</b>, представляют начальные и конечные значения битов. Нежирные значение являются переходами.\n",
    "<ul>\n",
    "    <li> The top-left non-bold 1 represents the transtion $ 0 \\rightarrow 0 $. </li>\n",
    "    <li> The bottom-right non-bold 1 represents the transtion $ 1 \\rightarrow 1 $. </li> \n",
    "    <li> The top-right non-bold 0 means that there is no transition from 1 to 0. </li>\n",
    "    <li> The bottom-left non-bold 0 means that there is no transition from 0 to 1. </li>\n",
    "</ul>\n",
    "The reader may think that the values 0 and 1 are representing the transitions as True (On) and False (Off), respectively. \n",
    "\n",
    "Similarly, we can represent the other operators as below:\n",
    "\n",
    "$\n",
    "NOT = \\begin{array}{lc|cc} & & initial & states \\\\ & & \\mathbf{0} & \\mathbf{1} \\\\ \\hline final & \\mathbf{0} & 0 & 1 \\\\  \n",
    "    states & \\mathbf{1} & 1 & 0  \\end{array}\n",
    "~~~\n",
    "ZERO = \\begin{array}{lc|cc} & & initial & states \\\\ & & \\mathbf{0} & \\mathbf{1} \\\\ \\hline final & \\mathbf{0} & 1 & 1 \\\\  \n",
    "    states & \\mathbf{1} & 0 & 0  \\end{array}\n",
    "~~~\n",
    "ONE = \\begin{array}{lc|cc} & & initial & states \\\\ & & \\mathbf{0} & \\mathbf{1} \\\\ \\hline final & \\mathbf{0} & 0 & 0 \\\\  \n",
    "    states & \\mathbf{1} & 1 & 1  \\end{array}\n",
    ".\n",
    "$"
   ]
  },
  {
   "cell_type": "markdown",
   "metadata": {},
   "source": [
    "<h3> Task 1 </h3>\n",
    "\n",
    "Convince yourself with the correctness of each table."
   ]
  },
  {
   "cell_type": "markdown",
   "metadata": {},
   "source": [
    "<h3> Reversibility and Irreversibility </h3>\n",
    "\n",
    "After applying Identity or NOT operator, we can easily determine the initial value by checking the final value. \n",
    "<ul>\n",
    "    <li> In the case of Identity operator, we simply say the same value. </li>\n",
    "    <li> In the case of NOT operator, we simply say the other value, i.e., if the final value is 0 (resp., 1), then we say 1 (resp., 0). </li>\n",
    "</ul>\n",
    "\n",
    "However, we cannot know the initial value by checking the final value after applying ZERO or ONE operator. \n",
    "\n",
    "Based on this observation, we can classify the operators into two types: <i>Reversible</i> and <i>Irreversible</i>.\n",
    "<ul>\n",
    "    <li> If we can recover the initial value(s) from the final value(s), then the operator is called reversible like Identity and NOT operators. </li>\n",
    "    <li> If we cannot know the initial value(s) from the final value(s), then the operator is called irreversible like ZERO and ONE operators. </li>\n",
    "</ul>\n",
    "\n",
    "<b> This classification is important, as the quantum evolution operators are reversible </b> (as long as the system is closed).\n",
    "\n",
    "The Identity and NOT operators are two fundamental quantum operators."
   ]
  }
 ],
 "metadata": {
  "kernelspec": {
   "display_name": "Python 3",
   "language": "python",
   "name": "python3"
  },
  "language_info": {
   "codemirror_mode": {
    "name": "ipython",
    "version": 3
   },
   "file_extension": ".py",
   "mimetype": "text/x-python",
   "name": "python",
   "nbconvert_exporter": "python",
   "pygments_lexer": "ipython3",
   "version": "3.8.6"
  }
 },
 "nbformat": 4,
 "nbformat_minor": 2
}
