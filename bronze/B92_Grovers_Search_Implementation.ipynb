{
 "cells": [
  {
   "cell_type": "markdown",
   "metadata": {},
   "source": [
    "<table> <tr>\n",
    "        <td  style=\"background-color:#ffffff;\">\n",
    "            <a href=\"http://qworld.lu.lv\" target=\"_blank\"><img src=\"..\\images\\qworld.jpg\" width=\"50%\" align=\"left\"> </a></td>\n",
    "        <td width=\"70%\" style=\"background-color:#ffffff;vertical-align:bottom;text-align:right;\">\n",
    "            prepared by Maksim Dimitrijev(<a href=\"http://qworld.lu.lv/index.php/qlatvia/\">QLatvia</a>)\n",
    "            and Özlem Salehi (<a href=\"http://qworld.lu.lv/index.php/qturkey/\">QTurkey</a>)\n",
    "        </td>        \n",
    "</tr></table>"
   ]
  },
  {
   "cell_type": "markdown",
   "metadata": {},
   "source": [
    "<table width=\"100%\"><tr><td style=\"color:#bbbbbb;background-color:#ffffff;font-size:11px;font-style:italic;text-align:right;\">This cell contains some macros. If there is a problem with displaying mathematical formulas, please run this cell to load these macros. </td></tr></table>\n",
    "$ \\newcommand{\\bra}[1]{\\langle #1|} $\n",
    "$ \\newcommand{\\ket}[1]{|#1\\rangle} $\n",
    "$ \\newcommand{\\braket}[2]{\\langle #1|#2\\rangle} $\n",
    "$ \\newcommand{\\dot}[2]{ #1 \\cdot #2} $\n",
    "$ \\newcommand{\\biginner}[2]{\\left\\langle #1,#2\\right\\rangle} $\n",
    "$ \\newcommand{\\mymatrix}[2]{\\left( \\begin{array}{#1} #2\\end{array} \\right)} $\n",
    "$ \\newcommand{\\myvector}[1]{\\mymatrix{c}{#1}} $\n",
    "$ \\newcommand{\\myrvector}[1]{\\mymatrix{r}{#1}} $\n",
    "$ \\newcommand{\\mypar}[1]{\\left( #1 \\right)} $\n",
    "$ \\newcommand{\\mybigpar}[1]{ \\Big( #1 \\Big)} $\n",
    "$ \\newcommand{\\sqrttwo}{\\frac{1}{\\sqrt{2}}} $\n",
    "$ \\newcommand{\\dsqrttwo}{\\dfrac{1}{\\sqrt{2}}} $\n",
    "$ \\newcommand{\\onehalf}{\\frac{1}{2}} $\n",
    "$ \\newcommand{\\donehalf}{\\dfrac{1}{2}} $\n",
    "$ \\newcommand{\\hadamard}{ \\mymatrix{rr}{ \\sqrttwo & \\sqrttwo \\\\ \\sqrttwo & -\\sqrttwo }} $\n",
    "$ \\newcommand{\\vzero}{\\myvector{1\\\\0}} $\n",
    "$ \\newcommand{\\vone}{\\myvector{0\\\\1}} $\n",
    "$ \\newcommand{\\stateplus}{\\myvector{ \\sqrttwo \\\\  \\sqrttwo } } $\n",
    "$ \\newcommand{\\stateminus}{ \\myrvector{ \\sqrttwo \\\\ -\\sqrttwo } } $\n",
    "$ \\newcommand{\\myarray}[2]{ \\begin{array}{#1}#2\\end{array}} $\n",
    "$ \\newcommand{\\X}{ \\mymatrix{cc}{0 & 1 \\\\ 1 & 0}  } $\n",
    "$ \\newcommand{\\I}{ \\mymatrix{rr}{1 & 0 \\\\ 0 & 1}  } $\n",
    "$ \\newcommand{\\Z}{ \\mymatrix{rr}{1 & 0 \\\\ 0 & -1}  } $\n",
    "$ \\newcommand{\\Htwo}{ \\mymatrix{rrrr}{ \\frac{1}{2} & \\frac{1}{2} & \\frac{1}{2} & \\frac{1}{2} \\\\ \\frac{1}{2} & -\\frac{1}{2} & \\frac{1}{2} & -\\frac{1}{2} \\\\ \\frac{1}{2} & \\frac{1}{2} & -\\frac{1}{2} & -\\frac{1}{2} \\\\ \\frac{1}{2} & -\\frac{1}{2} & -\\frac{1}{2} & \\frac{1}{2} } } $\n",
    "$ \\newcommand{\\CNOT}{ \\mymatrix{cccc}{1 & 0 & 0 & 0 \\\\ 0 & 1 & 0 & 0 \\\\ 0 & 0 & 0 & 1 \\\\ 0 & 0 & 1 & 0} } $\n",
    "$ \\newcommand{\\norm}[1]{ \\left\\lVert #1 \\right\\rVert } $\n",
    "$ \\newcommand{\\pstate}[1]{ \\lceil \\mspace{-1mu} #1 \\mspace{-1.5mu} \\rfloor } $"
   ]
  },
  {
   "cell_type": "markdown",
   "metadata": {},
   "source": [
    "<h2>Grover's Search: Implementation</h2>\n",
    "\n",
    "[Watch Lecture](https://youtu.be/RHR01e7oN9U)\n",
    "\n",
    "Now we will consider how to implement Grover's search. Let's recall the whole algorithm.\n",
    "\n",
    "We are given $N=2^n$ elements, and one element is marked. The task is to find this marked element.\n",
    "\n",
    "We are going to use $n$ qubits. At the beginning we apply Hadamard to each qubit, so we put our quantum state into superposition. The amplitude of each basis state $ \\ket{0 \\cdots 0}, \\ldots, \\ket{1 \\cdots 1} $ is set to $ \\frac{1}{\\sqrt{N}} $. After that we iterate the following algorithm for several times:\n",
    "<ul>\n",
    "    <li>Make a query: apply a query oracle operator to qubits - it flips the sign of the amplitude of the state that corresponds to the marked element.</li>\n",
    "    <li>Inversion: apply a diffusion matrix - the amplitude of each state is reflected over the mean of all amplitudes.</li>\n",
    "</ul>\n",
    "\n",
    "Let's check how we can implement the query and inversion operations."
   ]
  },
  {
   "cell_type": "markdown",
   "metadata": {},
   "source": [
    "<h3>Query operation</h3>\n",
    "\n",
    "<h4>Oracle</h4>\n",
    "\n",
    "Suppose that there exists a function $f:\\{0,1\\}^n \\rightarrow \\{0,1\\}$ with the following properties:\n",
    "\n",
    "\\begin{align*}\n",
    "f(x)&=1 &\\mbox{ if $x$ is marked}\\\\\n",
    "f(x)&=0 &\\mbox{ otherwise}\n",
    "\\end{align*}\n",
    "\n",
    "Grover's algorithm does not actually search a list of elements, but given function $f$ with the above properties, it finds the element $x$ such that $f(x)=1$.\n"
   ]
  },
  {
   "cell_type": "markdown",
   "metadata": {},
   "source": [
    "<h3>Task 1 (Discussion)</h3>\n"
   ]
  },
  {
   "cell_type": "markdown",
   "metadata": {},
   "source": [
    "Consider the following function $f:\\{0,1\\}^2 \\rightarrow \\{0,1\\}$. Which element is marked? How many queries should you make to $f$ to find out the marked element in the worst case?\n",
    "$$\n",
    "f: \\begin{array}{c|c} \\mathbf{In} & \\mathbf{Out} \\\\ \\hline  \\ket{00} & 0 \\\\ \\ket{01} & 0 \\\\ \\ket{10} & 0 \\\\ \\ket{11} & 1      \\end{array}\n",
    "$$\n"
   ]
  },
  {
   "cell_type": "markdown",
   "metadata": {},
   "source": [
    "$f$ is often called as the <font color=\"blue\">oracle</font> or blackbox. Even though $f$ might not be reversible, it can be implemented in a reversible manner by using the following idea.\n",
    "\n",
    "<img src=\"../images/foperator.png\" width=\"20%\" align=\"center\">\n",
    "\n",
    "Here $U_f$, the corresponding quantum operator is defined as follows, where $\\oplus$ denotes bitwise addition modulo 2 (XOR). \n",
    "\n",
    "$$U_f: \\ket{x}\\ket{y} \\mapsto \\ket{x}\\ket{y \\oplus f(x)} $$\n",
    "\n",
    "Note that this mapping is reversible. When $\\ket{y}=\\ket{0}$, you get exactly $f(x)$ in the output qubit."
   ]
  },
  {
   "cell_type": "markdown",
   "metadata": {},
   "source": [
    "<h4>Sign flip </h4>\n",
    "\n",
    "In the rest of the discussion, we will assume that we are given a quantum circuit implementing the operator $U_f$. An operator which flips the sign of the amplitude of the state corresponding to the marked element $x$ can be constructed using <font color=\"blue\">phase-kickback</font>.\n",
    "\n",
    "Now let's assume that $\\ket{y}=\\ket{-} = \\frac{1}{\\sqrt{2}} (\\ket{0} - \\ket{1})$ and investigate the effect of the operator $U_f$."
   ]
  },
  {
   "cell_type": "markdown",
   "metadata": {},
   "source": [
    "\\begin{align*}\n",
    "U_f \\ket{x}\\ket{-} &= U_f \\ket{x}  \\frac{1}{\\sqrt{2}} \\mypar{ \\ket{0}-\\ket{1} }\\\\\n",
    "&= \\frac{1}{\\sqrt{2}} (U_f\\ket{x}\\ket{0}-U_f\\ket{x}\\ket{1}) \\\\\n",
    "&= \\frac{1}{\\sqrt{2}} (\\ket{x}\\ket{f(x)\\oplus 0} - \\ket{x}\\ket{f(x)\\oplus 1}) \\\\\n",
    "&= \\ket{x} \\frac{1}{\\sqrt{2}}\\mypar{ \\ket{f(x)}-\\ket{f(x)\\oplus 1}  } \\\\\n",
    "&= \\ket{x} (-1)^{f(x)} \\frac{1}{\\sqrt{2}} \\mypar{ \\ket{0}-\\ket{1} }\\\\\n",
    "&= (-1)^{f(x)} \\ket{x} \\ket{-}\n",
    "\\end{align*}"
   ]
  },
  {
   "cell_type": "markdown",
   "metadata": {},
   "source": [
    "We have the following transformation:\n",
    "   $$  \\ket{x}\\ket{-} \\xrightarrow{U_f} (-1)^{f(x)} \\ket{x}\\ket{-} $$"
   ]
  },
  {
   "cell_type": "markdown",
   "metadata": {},
   "source": [
    "When $f(x)=1$, we see that a phase of -1 is kicked back to the front of the first register. Hence by preparing the output register in state $\\ket{-}$ and applying $U_f$, we obtain the sign flip effect.\n",
    "\n",
    "Note that the even if we don't know anything about $f$ (that's why it is called a blackbox), we are able to flip the sign of the amplitude of the marked element by making a query to $f$ by setting output qubit to $\\ket{-}$,\n",
    "\n"
   ]
  },
  {
   "cell_type": "markdown",
   "metadata": {},
   "source": [
    "<h3>Task 2</h3>\n"
   ]
  },
  {
   "cell_type": "markdown",
   "metadata": {},
   "source": [
    "Let $N=4$. Implement the query phase and check the unitary matrix for the query operator. Note that we are interested in the top-left $4 \\times 4$ part of the matrix since the remaining parts are due to the ancilla qubit."
   ]
  },
  {
   "cell_type": "markdown",
   "metadata": {},
   "source": [
    "You are given a function $f$ and its corresponding quantum operator $U_f$. First run the following cell to load operator $U_f$. Then you can make queries to $f$ by applying the operator $U_f$ via the following command:\n",
    "\n",
    "<pre>Uf(circuit,qreg)."
   ]
  },
  {
   "cell_type": "code",
   "execution_count": null,
   "metadata": {},
   "outputs": [],
   "source": [
    "%run ../include/quantum.py"
   ]
  },
  {
   "cell_type": "markdown",
   "metadata": {},
   "source": [
    "Now use phase kickback to flip the sign of the marked element:\n",
    "\n",
    "<ul>\n",
    "    <li>Set output qubit (qreg[2]) to $\\ket{-}$ by applying X and H.</li>\n",
    "    <li>Apply operator $U_f$\n",
    "    <li>Set output qubit (qreg[2]) back.</li>\n",
    "</ul>\n",
    "\n",
    "(Can you guess the marked element by looking at the unitary matrix?)"
   ]
  },
  {
   "cell_type": "code",
   "execution_count": null,
   "metadata": {},
   "outputs": [],
   "source": [
    "from qiskit import QuantumRegister, ClassicalRegister, QuantumCircuit, execute, Aer\n",
    "\n",
    "qreg = QuantumRegister(3)\n",
    "#No need to define classical register as we are not measuring\n",
    "\n",
    "mycircuit = QuantumCircuit(qreg)\n",
    "\n",
    "\n",
    "#\n",
    "#Your code here\n",
    "#\n",
    "\n",
    "\n",
    "job = execute(mycircuit,Aer.get_backend('unitary_simulator'))\n",
    "u=job.result().get_unitary(mycircuit,decimals=3)\n",
    "\n",
    "#We are interested in the top-left 4x4 part\n",
    "for i in range(4):\n",
    "    s=\"\"\n",
    "    for j in range(4):\n",
    "        val = str(u[i][j].real)\n",
    "        while(len(val)<5): val  = \" \"+val\n",
    "        s = s + val\n",
    "    print(s)\n",
    "    \n",
    "\n",
    "mycircuit.draw(output='mpl')"
   ]
  },
  {
   "cell_type": "markdown",
   "metadata": {},
   "source": [
    "<a href=\"B92_Grovers_Search_Implementation_Solutions.ipynb#task2\">click for our solution</a>"
   ]
  },
  {
   "cell_type": "markdown",
   "metadata": {},
   "source": [
    "<hr>\n",
    "\n",
    "In Task 2, we see that the query operator looks like an identity operator with one of the entries being equal to -1, which is responsible for the sign flip. \n",
    "\n",
    "$\\mymatrix{cccc}{1 & 0 & 0 & 0 \\\\ 0 & 1 & 0 & 0 \\\\ 0 & 0 & 1 & 0 \\\\ 0 & 0 & 0 & -1}$.\n",
    "\n",
    "By looking at the matrix, we can guess that the marked element is $\\ket{11}$. Note that in general one is not able to peek at the matrix corresponding to the query operator and therefore it is not possible to find out the marked element after a single query. "
   ]
  },
  {
   "cell_type": "markdown",
   "metadata": {},
   "source": [
    "<h3>Inversion operator </h3>\n",
    "\n",
    "[Watch Lecture](https://youtu.be/L9W2f74s7gs)"
   ]
  },
  {
   "cell_type": "markdown",
   "metadata": {},
   "source": [
    "To implement the inversion (diffusion) operation, we will need additional (ancilla) qubit. This is how we implement the inversion operator:\n",
    "\n",
    "<ul>\n",
    "    <li>Set the ancilla qubit to $\\ket{-}$ by applying X and H.</li>\n",
    "    <li>Apply H to all qubits other than the ancilla.</li>\n",
    "    <li>Apply X to all qubits other than the ancilla.</li>\n",
    "    <li>Apply multiple controlled NOT operator, where the ancilla qubit is target and all other qubits are used for controlling.</li>\n",
    "    <li>Apply X to the ancilla qubit.</li>\n",
    "    <li>Apply X to all qubits other than the ancilla.</li>\n",
    "    <li>Apply H to all qubits other than the ancilla.</li>\n",
    "    <li>Set ancilla qubit back by applying X and H..</li>\n",
    "</ul>"
   ]
  },
  {
   "cell_type": "markdown",
   "metadata": {},
   "source": [
    "<h4>Why these gates are chosen? (Optional) </h4>\n",
    "\n",
    "Now let's try to understand why these gates are chosen. Let's recall the inversion operator:\n",
    "\n",
    "$$ 2 \\mymatrix{ccc}{\n",
    "    \\frac{1}{N}  & \\cdots & \\frac{1}{N} \\\\ \n",
    "    \\vdots & \\ddots & \\vdots \\\\\n",
    "    \\frac{1}{N}  & \\cdots & \\frac{1}{N} \\\\ \n",
    "    } \n",
    "- I . $$\n",
    "\n",
    "\n",
    "This operator is also called the <font color=\"blue\"> diffusion operator</font>. \n",
    "\n",
    "Recall that the diffusion operator can be expressed as $D=2\\ket{u}\\bra{u}-I$ where $\\ket{u}=H^{\\otimes n}\\ket{0^n}$ is the equal superposition vector. We will simply denote $\\ket{0^n}$ by $\\ket{\\mathbf{0}}$.\n"
   ]
  },
  {
   "cell_type": "markdown",
   "metadata": {},
   "source": [
    "- To start with let's express $D$ as follows:\n",
    "\n",
    "\\begin{align*}\n",
    "D=2\\ket{u}\\bra{u}-I &= 2(H^{\\otimes n}\\ket{\\mathbf{0}}\\bra{\\mathbf{0}}H^{\\otimes n}-I) \\\\\n",
    "&= 2(H^{\\otimes n}\\ket{\\mathbf{0}}\\bra{\\mathbf{0}}H^{\\otimes n}-H^{\\otimes n}H^{\\otimes n})\\\\\n",
    "&=H^{\\otimes n} (2\\ket{\\mathbf{0}}\\bra{\\mathbf{0}}H^{\\otimes n}-H^{\\otimes n}) \\\\\n",
    "&=H^{\\otimes n} (2\\ket{\\mathbf{0}}\\bra{\\mathbf{0}}-I)H^{\\otimes n}\n",
    "\\end{align*}\n",
    "\n",
    "<font color=\"blue\"><i>Looking at this expression, it is clear why we have H gates at the beginning and at the end</i>"
   ]
  },
  {
   "cell_type": "markdown",
   "metadata": {},
   "source": [
    "- Now let us look at the effect of applying $2\\ket{\\mathbf{0}}\\bra{\\mathbf{0}}-I$ to any arbitrary state.\n",
    "\n",
    "$(2\\ket{\\mathbf{0}}\\bra{\\mathbf{0}}-I) \\ket{x} = 2\\ket{\\mathbf{0}}\\braket{\\mathbf{0}}{x}-\\ket{x} .$\n",
    "\n",
    "If $\\ket{x}=\\ket{\\mathbf{0}}$, since $\\braket{\\mathbf{0}}{\\mathbf{0}}=1$, then $2\\ket{\\mathbf{0}}\\braket{\\mathbf{0}}{\\mathbf{0}}-\\ket{\\mathbf{0}} = 2\\ket{\\mathbf{0}}-\\ket{\\mathbf{0}} = \\ket{\\mathbf{0}}$.\n",
    "\n",
    "If $\\ket{x}\\neq \\ket{\\mathbf{0}}$, since $\\braket{\\mathbf{0}}{x}=0$, then $2\\ket{\\mathbf{0}}\\braket{\\mathbf{0}}{x}-\\ket{x}= 2\\ket{\\mathbf{0}}\\cdot 0 -\\ket{x} = -\\ket{x}$.\n",
    "\n",
    "Hence, the effect of $2\\ket{\\mathbf{0}}\\bra{\\mathbf{0}}-I$  is flipping the amplitude of any state except $\\ket{\\mathbf{0}}$."
   ]
  },
  {
   "cell_type": "markdown",
   "metadata": {},
   "source": [
    "- Now let's see how we can implement this operator. Let's define function $g$ as follows and let $U_g$ be the corresponding operator. \n",
    "\n",
    "\\begin{align*}\n",
    "g(x)&=0 &\\mbox{ if $x$ is $\\ket{\\mathbf{0}}$ }\\\\\n",
    "g(x)&=1 &\\mbox{ otherwise},\n",
    "\\end{align*}\n",
    "\n",
    "\n",
    "\n",
    "Let's set ancilla qubit to state $\\ket{-}$ and apply operator $U_g$.\n",
    "\\begin{align*}\n",
    "U_g \\ket{x}\\ket{-} &= (-1)^{g(x)} \\ket{x} \\ket{-}.\n",
    "\\end{align*}\n",
    "\n",
    "\n",
    "Note that $U_g$ flips the amplitudes of the states other than $\\ket{\\mathbf{0}}$ and exactly implements $2\\ket{\\mathbf{0}}\\bra{\\mathbf{0}}-I$."
   ]
  },
  {
   "cell_type": "markdown",
   "metadata": {},
   "source": [
    "- How to implement $U_g$?\n",
    "\n",
    "Consider $g'$ which is exactly the opposite of $g$.\n",
    "\n",
    "\\begin{align*}\n",
    "g'(x)&=1 &\\mbox{ if $x$ is $\\ket{\\mathbf{0}}$ }\\\\\n",
    "g'(x)&=0 &\\mbox{ otherwise},\n",
    "\\end{align*}\n",
    "\n",
    "To implement $U_g'$, we should output 1 when $x$ is $\\ket{\\bf 0}$, that is we should apply $X$ gate to the output qubit when all input qubits are in state 0. \n",
    "\n",
    "<font color=\"blue\"> <i> That's why we first apply $X$ gate to the control qubits and then apply multiple controlled NOT gate where the target is the ancilla qubit. Afterwards, we set the control qubits back (Recall the multiple controlled constructions notebook.). </i>"
   ]
  },
  {
   "cell_type": "markdown",
   "metadata": {},
   "source": [
    "We have just obtained the opposite effect of $g$: the output qubit is set to 1 if all input qubits are in state 0. \n",
    "\n",
    "<font color=\"blue\"><i>Therefore we apply $X$-gate to the ancila qubit so that the output is 1 when $x$ is not $\\ket{\\bf{0}}$ and the output is 0 otherwise. </i>"
   ]
  },
  {
   "cell_type": "markdown",
   "metadata": {},
   "source": [
    "<h3>Task 3</h3>\n",
    "\n",
    "Let $N=4$. Implement the inversion operator and check whether you obtain the following matrix:\n",
    "\n",
    "$\\mymatrix{cccc}{-0.5 & 0.5 & 0.5 & 0.5 \\\\ 0.5 & -0.5 & 0.5 & 0.5 \\\\ 0.5 & 0.5 & -0.5 & 0.5 \\\\ 0.5 & 0.5 & 0.5 & -0.5}$."
   ]
  },
  {
   "cell_type": "code",
   "execution_count": null,
   "metadata": {},
   "outputs": [],
   "source": [
    "def inversion(circuit,quantum_reg):\n",
    "    \n",
    "#don't implement the first and last steps in which ancilla qubit is set\n",
    "\n",
    "\n",
    "#\n",
    "# your code is here\n",
    "#"
   ]
  },
  {
   "cell_type": "markdown",
   "metadata": {},
   "source": [
    "Below you can check the matrix of your inversion operator and how the circuit looks like. We are interested in the top-left $4 \\times 4$ part of the matrix, the remaining parts are because we used ancilla qubit."
   ]
  },
  {
   "cell_type": "code",
   "execution_count": null,
   "metadata": {},
   "outputs": [],
   "source": [
    "from qiskit import QuantumRegister, ClassicalRegister, QuantumCircuit, execute, Aer\n",
    "\n",
    "qreg1 =  QuantumRegister(3)\n",
    "\n",
    "mycircuit1 = QuantumCircuit(qreg1)\n",
    "\n",
    "#set ancilla qubit\n",
    "mycircuit1.x(qreg1[2])\n",
    "mycircuit1.h(qreg1[2])\n",
    "    \n",
    "inversion(mycircuit1,qreg1)\n",
    "\n",
    "#set ancilla qubit back\n",
    "mycircuit1.h(qreg1[2])\n",
    "mycircuit1.x(qreg1[2])\n",
    "\n",
    "\n",
    "job = execute(mycircuit1,Aer.get_backend('unitary_simulator'))\n",
    "u=job.result().get_unitary(mycircuit1,decimals=3)\n",
    "for i in range(4):\n",
    "    s=\"\"\n",
    "    for j in range(4):\n",
    "        val = str(u[i][j].real)\n",
    "        while(len(val)<5): val  = \" \"+val\n",
    "        s = s + val\n",
    "    print(s)\n",
    "    \n",
    "mycircuit1.draw(output='mpl')"
   ]
  },
  {
   "cell_type": "markdown",
   "metadata": {},
   "source": [
    "<a href=\"B92_Grovers_Search_Implementation_Solutions.ipynb#task3\">click for our solution</a>"
   ]
  },
  {
   "cell_type": "markdown",
   "metadata": {},
   "source": [
    "<h3>Task 4: Testing Grover's search</h3>\n",
    "\n",
    "Now we are ready to test our operations and run Grover's search. Suppose that there are 4 elements in the list and try to find the marked element.\n",
    "\n",
    "You are given the operator $U_f$. First run the following cell to load it. You can access it via <pre>Uf(circuit,qreg).</pre>\n",
    "qreg[2] is the ancilla qubit and it is shared by the query and the inversion operators.\n",
    "    \n",
    "Which state do you observe the most? "
   ]
  },
  {
   "cell_type": "code",
   "execution_count": null,
   "metadata": {},
   "outputs": [],
   "source": [
    "%run ..\\include\\quantum.py"
   ]
  },
  {
   "cell_type": "code",
   "execution_count": null,
   "metadata": {},
   "outputs": [],
   "source": [
    "from qiskit import QuantumRegister, ClassicalRegister, QuantumCircuit, execute, Aer\n",
    "\n",
    "qreg = QuantumRegister(3)\n",
    "creg = ClassicalRegister(2)\n",
    "\n",
    "mycircuit = QuantumCircuit(qreg,creg)\n",
    "\n",
    "#Grover\n",
    "\n",
    "\n",
    "#initial step - equal superposition\n",
    "#\n",
    "#your code here\n",
    "#\n",
    "\n",
    "#set ancilla \n",
    "#\n",
    "#your code here\n",
    "#\n",
    "\n",
    "\n",
    "\n",
    "#change the number of iterations\n",
    "iterations=1\n",
    "\n",
    "#Grover's iterations.\n",
    "#\n",
    "#Query operator\n",
    "#\n",
    "#Inversion operator\n",
    "#\n",
    "   \n",
    "#set ancilla\n",
    "#\n",
    "#your code here\n",
    "#\n",
    "\n",
    "mycircuit.measure(qreg[0],creg[0])\n",
    "mycircuit.measure(qreg[1],creg[1])\n",
    "\n",
    "job = execute(mycircuit,Aer.get_backend('qasm_simulator'),shots=10000)\n",
    "counts = job.result().get_counts(mycircuit)\n",
    "\n",
    "# print the outcome\n",
    "for outcome in counts:\n",
    "    print(outcome,\"is observed\",counts[outcome],\"times\")\n",
    "\n",
    "mycircuit.draw(output='mpl')"
   ]
  },
  {
   "cell_type": "markdown",
   "metadata": {},
   "source": [
    "<a href=\"B92_Grovers_Search_Implementation_Solutions.ipynb#task4\">click for our solution</a>"
   ]
  },
  {
   "cell_type": "markdown",
   "metadata": {},
   "source": [
    "<h3>Task 5 (Optional, challenging)</h3>\n",
    "\n",
    "Implement the inversion operation for $n=3$ ($N=8$). This time you will need 5 qubits - 3 for the operation, 1 for ancilla, and one more qubit to implement not gate controlled by three qubits.\n",
    "\n",
    "In the implementation the ancilla qubit will be qubit 3, while qubits for control are 0, 1 and 2; qubit 4 is used for the multiple control operation. As a result you should obtain the following values in the top-left $8 \\times 8$ entries:\n",
    "\n",
    "$\\mymatrix{cccccccc}{-0.75 & 0.25 & 0.25 & 0.25 & 0.25 & 0.25 & 0.25 & 0.25 \\\\ 0.25 & -0.75 & 0.25 & 0.25 & 0.25 & 0.25 & 0.25 & 0.25 \\\\ 0.25 & 0.25 & -0.75 & 0.25 & 0.25 & 0.25 & 0.25 & 0.25 \\\\ 0.25 & 0.25 & 0.25 & -0.75 & 0.25 & 0.25 & 0.25 & 0.25 \\\\ 0.25 & 0.25 & 0.25 & 0.25 & -0.75 & 0.25 & 0.25 & 0.25 \\\\ 0.25 & 0.25 & 0.25 & 0.25 & 0.25 & -0.75 & 0.25 & 0.25 \\\\ 0.25 & 0.25 & 0.25 & 0.25 & 0.25 & 0.25 & -0.75 & 0.25 \\\\ 0.25 & 0.25 & 0.25 & 0.25 & 0.25 & 0.25 & 0.25 & -0.75}$."
   ]
  },
  {
   "cell_type": "code",
   "execution_count": null,
   "metadata": {},
   "outputs": [],
   "source": [
    "def big_inversion(circuit,quantum_reg):\n",
    "    \n",
    "    \n",
    "#\n",
    "# your code is here\n",
    "#\n"
   ]
  },
  {
   "cell_type": "markdown",
   "metadata": {},
   "source": [
    "Below you can check the matrix of your inversion operator. We are interested in the top-left $8 \\times 8$ part of the matrix, the remaining parts are because of additional qubits."
   ]
  },
  {
   "cell_type": "code",
   "execution_count": null,
   "metadata": {},
   "outputs": [],
   "source": [
    "from qiskit import QuantumRegister, ClassicalRegister, QuantumCircuit, execute, Aer\n",
    "\n",
    "big_qreg2 =  QuantumRegister(5)\n",
    "\n",
    "big_mycircuit2 = QuantumCircuit(big_qreg2)\n",
    "\n",
    "#set ancilla\n",
    "big_mycircuit2.x(big_qreg2[3])\n",
    "big_mycircuit2.h(big_qreg2[3])\n",
    "    \n",
    "big_inversion(big_mycircuit2,big_qreg2)\n",
    "\n",
    "#set ancilla back\n",
    "big_mycircuit2.h(big_qreg2[3])\n",
    "big_mycircuit2.x(big_qreg2[3])\n",
    "\n",
    "job = execute(big_mycircuit2,Aer.get_backend('unitary_simulator'))\n",
    "u=job.result().get_unitary(big_mycircuit2,decimals=3)\n",
    "for i in range(8):\n",
    "    s=\"\"\n",
    "    for j in range(8):\n",
    "        val = str(u[i][j].real)\n",
    "        while(len(val)<6): val  = \" \"+val\n",
    "        s = s + val\n",
    "    print(s)"
   ]
  },
  {
   "cell_type": "markdown",
   "metadata": {},
   "source": [
    "<a href=\"B92_Grovers_Search_Implementation_Solutions.ipynb#task5\">click for our solution</a>"
   ]
  },
  {
   "cell_type": "markdown",
   "metadata": {},
   "source": [
    "<h3>Task 6: Testing Grover's search for 8 elements (Optional, challenging)</h3>\n",
    "\n",
    "Now we will test Grover's search on 8 elements.\n",
    "\n",
    "You are given the operator $U_{f_8}$. First run the following cell to load it. You can access it via:\n",
    "\n",
    "<pre>Uf_8(circuit,qreg)</pre>\n",
    "    \n",
    "Which state do you observe the most?"
   ]
  },
  {
   "cell_type": "code",
   "execution_count": null,
   "metadata": {},
   "outputs": [],
   "source": [
    "%run ..\\include\\quantum.py"
   ]
  },
  {
   "cell_type": "code",
   "execution_count": null,
   "metadata": {},
   "outputs": [],
   "source": [
    "from qiskit import QuantumRegister, ClassicalRegister, QuantumCircuit, execute, Aer\n",
    "\n",
    "qreg8 =  QuantumRegister(5)\n",
    "creg8 = ClassicalRegister(3)\n",
    "\n",
    "mycircuit8 = QuantumCircuit(qreg8,creg8)\n",
    "\n",
    "\n",
    "#\n",
    "#Your code here\n",
    "#\n",
    "\n",
    "job = execute(mycircuit8,Aer.get_backend('qasm_simulator'),shots=10000)\n",
    "counts8 = job.result().get_counts(mycircuit8)\n",
    "# print the reverse of the outcome\n",
    "for outcome in counts8:\n",
    "    print(outcome,\"is observed\",counts8[outcome],\"times\")\n",
    "\n",
    "mycircuit8.draw(output='mpl')"
   ]
  },
  {
   "cell_type": "markdown",
   "metadata": {},
   "source": [
    "<a href=\"B92_Grovers_Search_Implementation_Solutions.ipynb#task6\">click for our solution</a>"
   ]
  },
  {
   "cell_type": "markdown",
   "metadata": {},
   "source": [
    "<h3>Task 7 (optional)</h3>\n",
    "\n",
    "Do you remember the optimal number of iterations to find the marked element with Grover's search? You are given the following code which implements Grover's search. (<i>giant_oracle</i> and <i>giant_diffusion</i> are already implemented.) There is a single marked element. First, determine the total number of elements in the search space. After that, try to find the optimal number of iterations. You can check your guess by changing the value of <i>iteration_count</i>. Please also check less optimal options like <i>iteration_count-1</i>, <i>iteration_count+1</i>.\n",
    "    \n",
    "Try also calling <i>giant_oracle2</i> which marks 2 elements and try to find out the optimal number of iterations."
   ]
  },
  {
   "cell_type": "code",
   "execution_count": null,
   "metadata": {},
   "outputs": [],
   "source": [
    "%run ../include/quantum.py\n",
    "from qiskit import QuantumRegister, ClassicalRegister, QuantumCircuit, execute, Aer\n",
    "\n",
    "qreg12 =  QuantumRegister(19)\n",
    "creg12 = ClassicalRegister(10)\n",
    "\n",
    "mycircuit12 = QuantumCircuit(qreg12,creg12)\n",
    "\n",
    "for i in range(10):\n",
    "    mycircuit12.h(qreg12[i])\n",
    "\n",
    "mycircuit12.x(qreg12[10])\n",
    "mycircuit12.h(qreg12[10])\n",
    "\n",
    "#number of iterations - change this value\n",
    "iteration_count = 1\n",
    "for i in range(iteration_count):\n",
    "    giant_oracle2(mycircuit12,qreg12)\n",
    "    giant_diffusion(mycircuit12,qreg12)\n",
    "    \n",
    "mycircuit12.h(qreg12[10])\n",
    "mycircuit12.x(qreg12[10])\n",
    "\n",
    "for i in range(10):\n",
    "    mycircuit12.measure(qreg12[i],creg12[i])\n",
    "\n",
    "job = execute(mycircuit12,Aer.get_backend('qasm_simulator'),shots=100000)\n",
    "counts12 = job.result().get_counts(mycircuit12)\n",
    "# print the reverse of the outcome\n",
    "for outcome in counts12:\n",
    "    print(outcome,\"is observed\",counts12[outcome],\"times\")"
   ]
  },
  {
   "cell_type": "markdown",
   "metadata": {},
   "source": [
    "<h3>Designing oracle functions</h3>\n",
    "\n",
    "Oracle function $f$ depends on the problem you want to solve. You can model many different problems (such as graph coloring, traveling salesman and many more) as a search problem. Elements in your search space correspond to quantum states. Instead of searching the whole space, you design $f$ so that it checks whether an element in the search space is the actual solution and marks it by outputing 1. Then you can use Grover's search to find the solution. "
   ]
  },
  {
   "cell_type": "markdown",
   "metadata": {},
   "source": [
    "Now we will design a very simple oracle function, which simply marks one of the elements. Suppose that $N=4$. Our elements in the search space are $\\ket{00}$, $\\ket{01}$, $\\ket{10}$, $\\ket{11}$ and suppose that we want to mark the element $\\ket{11}$. This means that the function should output 1 if the input qubits are in state 0. This can be simply accomplished with the following function:"
   ]
  },
  {
   "cell_type": "code",
   "execution_count": 2,
   "metadata": {},
   "outputs": [],
   "source": [
    "def oracle_11(circuit,qreg):\n",
    "    circuit1.ccx(qreg[0],qreg[1],qreg[2])\n",
    "                 "
   ]
  },
  {
   "cell_type": "markdown",
   "metadata": {},
   "source": [
    "Here qreg[0] and qreg[1] are the input qubits and qreg[2] is the output qubit. Let's check the matrix corresponding to the query phase."
   ]
  },
  {
   "cell_type": "code",
   "execution_count": 3,
   "metadata": {},
   "outputs": [
    {
     "name": "stdout",
     "output_type": "stream",
     "text": [
      "  1.0  0.0  0.0  0.0\n",
      "  0.0  1.0  0.0  0.0\n",
      "  0.0  0.0  1.0  0.0\n",
      "  0.0  0.0  0.0 -1.0\n"
     ]
    },
    {
     "data": {
      "image/png": "[encoded data removed]",
      "text/plain": [
       "<Figure size 490.028x204.68 with 1 Axes>"
      ]
     },
     "execution_count": 3,
     "metadata": {},
     "output_type": "execute_result"
    }
   ],
   "source": [
    "from qiskit import QuantumRegister, ClassicalRegister, QuantumCircuit, execute, Aer\n",
    "\n",
    "qreg1 =  QuantumRegister(3)\n",
    "\n",
    "circuit1 = QuantumCircuit(qreg1)\n",
    "\n",
    "# prepare ancilla qubit\n",
    "circuit1.x(qreg1[2])\n",
    "circuit1.h(qreg1[2])\n",
    "\n",
    "#call the oracle\n",
    "oracle_11(circuit1,qreg1)\n",
    "\n",
    "# put ancilla qubit back into state |0>\n",
    "circuit1.h(qreg1[2])\n",
    "circuit1.x(qreg1[2])\n",
    "\n",
    "job = execute(circuit1,Aer.get_backend('unitary_simulator'))\n",
    "u=job.result().get_unitary(circuit1,decimals=3)\n",
    "for i in range(4):\n",
    "    s=\"\"\n",
    "    for j in range(4):\n",
    "        val = str(u[i][j].real)\n",
    "        while(len(val)<5): val  = \" \"+val\n",
    "        s = s + val\n",
    "    print(s)\n",
    "\n",
    "circuit1.draw(output='mpl')"
   ]
  },
  {
   "cell_type": "markdown",
   "metadata": {},
   "source": [
    "Let's check another example, now our marked element is $\\ket{01}$."
   ]
  },
  {
   "cell_type": "code",
   "execution_count": 4,
   "metadata": {},
   "outputs": [],
   "source": [
    "def oracle_01(circuit,qreg):\n",
    "    circuit.x(qreg[1])\n",
    "    circuit.ccx(qreg[0],qreg[1],qreg[2])\n",
    "    circuit.x(qreg[1])"
   ]
  },
  {
   "cell_type": "code",
   "execution_count": 5,
   "metadata": {},
   "outputs": [
    {
     "name": "stdout",
     "output_type": "stream",
     "text": [
      "  1.0  0.0  0.0  0.0\n",
      "  0.0 -1.0  0.0  0.0\n",
      "  0.0  0.0  1.0  0.0\n",
      "  0.0  0.0  0.0  1.0\n"
     ]
    },
    {
     "data": {
      "image/png": "[encoded data removed]",
      "text/plain": [
       "<Figure size 490.028x204.68 with 1 Axes>"
      ]
     },
     "execution_count": 5,
     "metadata": {},
     "output_type": "execute_result"
    }
   ],
   "source": [
    "from qiskit import QuantumRegister, ClassicalRegister, QuantumCircuit, execute, Aer\n",
    "\n",
    "qreg1 =  QuantumRegister(3)\n",
    "\n",
    "circuit1 = QuantumCircuit(qreg1)\n",
    "\n",
    "# prepare ancilla qubit\n",
    "circuit1.x(qreg1[2])\n",
    "circuit1.h(qreg1[2])\n",
    "\n",
    "#call the oracle\n",
    "oracle_01(circuit1,qreg1)\n",
    "\n",
    "# put ancilla qubit back into state |0>\n",
    "circuit1.h(qreg1[2])\n",
    "circuit1.x(qreg1[2])\n",
    "\n",
    "job = execute(circuit1,Aer.get_backend('unitary_simulator'))\n",
    "u=job.result().get_unitary(circuit1,decimals=3)\n",
    "for i in range(4):\n",
    "    s=\"\"\n",
    "    for j in range(4):\n",
    "        val = str(u[i][j].real)\n",
    "        while(len(val)<5): val  = \" \"+val\n",
    "        s = s + val\n",
    "    print(s)\n",
    "\n",
    "circuit1.draw(output='mpl')"
   ]
  },
  {
   "cell_type": "markdown",
   "metadata": {},
   "source": [
    "<h3>Task 8</h3>\n",
    "\n",
    "Implement an oracle function which marks the element $\\ket{00}$. Run Grover's search with the oracle you have implemented. "
   ]
  },
  {
   "cell_type": "code",
   "execution_count": null,
   "metadata": {},
   "outputs": [],
   "source": [
    "def oracle_00(circuit,qreg):\n",
    "    #Your code here\n",
    "    #\n",
    "    #"
   ]
  },
  {
   "cell_type": "code",
   "execution_count": null,
   "metadata": {},
   "outputs": [],
   "source": [
    "from qiskit import QuantumRegister, ClassicalRegister, QuantumCircuit, execute, Aer\n",
    "\n",
    "#Grover's search\n",
    "\n",
    "\n",
    "\n"
   ]
  },
  {
   "cell_type": "markdown",
   "metadata": {},
   "source": [
    "<a href=\"B92_Grovers_Search_Implementation_Solutions.ipynb#task8\">click for our solution</a>"
   ]
  },
  {
   "cell_type": "markdown",
   "metadata": {},
   "source": [
    "<h3>Task 9 (Optional)</h3>\n",
    "\n",
    "Let $N=8$. Implement an oracle function which marks the elements $\\ket{001}$ and $\\ket{111}$. Run Grover's search with the oracle you have implemented. "
   ]
  },
  {
   "cell_type": "code",
   "execution_count": null,
   "metadata": {},
   "outputs": [],
   "source": [
    "def oracle_001_111(circuit,qreg):\n",
    "    #Your code here\n",
    "    #\n",
    "    #"
   ]
  },
  {
   "cell_type": "markdown",
   "metadata": {},
   "source": [
    "Further links:\n",
    "\n",
    "http://quantumgazette.blogspot.com/2017/12/grovers-algorithm-for-unstructured.html\n",
    "\n",
    "http://twistedoakstudios.com/blog/Post2644_grovers-quantum-search-algorithm"
   ]
  }
 ],
 "metadata": {
  "kernelspec": {
   "display_name": "Python 3",
   "language": "python",
   "name": "python3"
  },
  "language_info": {
   "codemirror_mode": {
    "name": "ipython",
    "version": 3
   },
   "file_extension": ".py",
   "mimetype": "text/x-python",
   "name": "python",
   "nbconvert_exporter": "python",
   "pygments_lexer": "ipython3",
   "version": "3.7.6"
  }
 },
 "nbformat": 4,
 "nbformat_minor": 2
}
