{
 "cells": [
  {
   "cell_type": "markdown",
   "metadata": {},
   "source": [
    "<table width=\"100%\"> <tr>\n",
    "        <td  style=\"background-color:#ffffff;\">\n",
    "            <a href=\"https://qsoftware.lu.lv/index.php/qworld/\" target=\"_blank\"><img src=\"..\\images\\qworld.jpg\" width=\"35%\" align=\"left\"> </a></td>\n",
    "        <td style=\"background-color:#ffffff;vertical-align:bottom;text-align:right;\">\n",
    "            prepared by Abuzer Yakaryilmaz (<a href=\"http://qworld.lu.lv/index.php/qlatvia/\" target=\"_blank\">QLatvia</a>)\n",
    "        </td>        \n",
    "</tr></table>"
   ]
  },
  {
   "cell_type": "markdown",
   "metadata": {},
   "source": [
    "<table width=\"100%\"><tr><td style=\"color:#bbbbbb;background-color:#ffffff;font-size:11px;font-style:italic;text-align:right;\">This cell contains some macros. If there is a problem with displaying mathematical formulas, please run this cell to load these macros. </td></tr></table>\n",
    "$ \\newcommand{\\bra}[1]{\\langle #1|} $\n",
    "$ \\newcommand{\\ket}[1]{|#1\\rangle} $\n",
    "$ \\newcommand{\\braket}[2]{\\langle #1|#2\\rangle} $\n",
    "$ \\newcommand{\\dot}[2]{ #1 \\cdot #2} $\n",
    "$ \\newcommand{\\biginner}[2]{\\left\\langle #1,#2\\right\\rangle} $\n",
    "$ \\newcommand{\\mymatrix}[2]{\\left( \\begin{array}{#1} #2\\end{array} \\right)} $\n",
    "$ \\newcommand{\\myvector}[1]{\\mymatrix{c}{#1}} $\n",
    "$ \\newcommand{\\myrvector}[1]{\\mymatrix{r}{#1}} $\n",
    "$ \\newcommand{\\mypar}[1]{\\left( #1 \\right)} $\n",
    "$ \\newcommand{\\mybigpar}[1]{ \\Big( #1 \\Big)} $\n",
    "$ \\newcommand{\\sqrttwo}{\\frac{1}{\\sqrt{2}}} $\n",
    "$ \\newcommand{\\dsqrttwo}{\\dfrac{1}{\\sqrt{2}}} $\n",
    "$ \\newcommand{\\onehalf}{\\frac{1}{2}} $\n",
    "$ \\newcommand{\\donehalf}{\\dfrac{1}{2}} $\n",
    "$ \\newcommand{\\hadamard}{ \\mymatrix{rr}{ \\sqrttwo & \\sqrttwo \\\\ \\sqrttwo & -\\sqrttwo }} $\n",
    "$ \\newcommand{\\vzero}{\\myvector{1\\\\0}} $\n",
    "$ \\newcommand{\\vone}{\\myvector{0\\\\1}} $\n",
    "$ \\newcommand{\\vhadamardzero}{\\myvector{ \\sqrttwo \\\\  \\sqrttwo } } $\n",
    "$ \\newcommand{\\vhadamardone}{ \\myrvector{ \\sqrttwo \\\\ -\\sqrttwo } } $\n",
    "$ \\newcommand{\\myarray}[2]{ \\begin{array}{#1}#2\\end{array}} $\n",
    "$ \\newcommand{\\X}{ \\mymatrix{cc}{0 & 1 \\\\ 1 & 0}  } $\n",
    "$ \\newcommand{\\Z}{ \\mymatrix{rr}{1 & 0 \\\\ 0 & -1}  } $\n",
    "$ \\newcommand{\\Htwo}{ \\mymatrix{rrrr}{ \\frac{1}{2} & \\frac{1}{2} & \\frac{1}{2} & \\frac{1}{2} \\\\ \\frac{1}{2} & -\\frac{1}{2} & \\frac{1}{2} & -\\frac{1}{2} \\\\ \\frac{1}{2} & \\frac{1}{2} & -\\frac{1}{2} & -\\frac{1}{2} \\\\ \\frac{1}{2} & -\\frac{1}{2} & -\\frac{1}{2} & \\frac{1}{2} } } $\n",
    "$ \\newcommand{\\CNOT}{ \\mymatrix{cccc}{1 & 0 & 0 & 0 \\\\ 0 & 1 & 0 & 0 \\\\ 0 & 0 & 0 & 1 \\\\ 0 & 0 & 1 & 0} } $\n",
    "$ \\newcommand{\\norm}[1]{ \\left\\lVert #1 \\right\\rVert } $"
   ]
  },
  {
   "cell_type": "markdown",
   "metadata": {},
   "source": [
    "<h2> Игра с двумя предвзятыми монетами </h2>\n",
    "\n",
    "[Watch Lecture](https://youtu.be/k0OJvv7AAgU)\n",
    "\n",
    "У Аси есть две монеты - один евро и один цент. \n",
    "\n",
    "Обе монеты являются предвзятыми и вероятности получения орла и решки следующие:\n",
    "<ul>\n",
    "    <li> 1 евро: орел с вероятностью $ 0.6 $ и решка с вероятностью $ 0.4 $. </li>\n",
    "    <li> 1 цент: орел с вероятностью $ 0.3 $ и решка с вероятностью $ 0.7 $. </li>\n",
    "</ul>\n",
    "\n",
    "Ася бросает свои монеты, основываясь на следующем <b>протоколе</b>: \n",
    "<ol> \n",
    "    <li> при получении орла, она бросает монету в 1 евро; </li>\n",
    "    <li> при получении решки, она бросает монету в 1 цент; </li>\n",
    "    <li> начинает она с броска монеты в 1 евро (предполагаем, что в нулевом шаге был орел). </li>\n",
    "</ol>\n",
    "\n",
    "Используя один бит, мы можем описать все возможные исходы игры так:\n",
    "\n",
    "$\n",
    "GameCoins = \\begin{array}{c|cc} & \\mathbf{Head} & \\mathbf{Tail} \\\\ \\hline \\mathbf{Head} & 0.6 & 0.3\\\\  \\mathbf{Tail} & 0.4 & 0.7  \\end{array} = \\begin{array}{c|cc} & \\mathbf{0} & \\mathbf{1} \\\\ \\hline \\mathbf{0} & 0.6 & 0.3 \\\\  \\mathbf{1} & 0.4 & 0.7  \\end{array}\n",
    "$"
   ]
  },
  {
   "cell_type": "markdown",
   "metadata": {},
   "source": [
    "<h3>Task 1: Проверьте себя </h3>\n",
    "\n",
    "Проверьте корректность переходов, изображенных в таблице.\n",
    "\n",
    "<i> Отметим, что нет разницы между орлом, полученным при бросании монеты в 1 евро, и орлом, полученным при бросании монеты в 1 цент.\n",
    "    \n",
    "Таким образом, одного бита достаточно для представления всех переходов.\n",
    "</i>"
   ]
  },
  {
   "cell_type": "markdown",
   "metadata": {},
   "source": [
    "<h3> Взгляд на тройной бросок монеты Асей </h3>\n",
    "\n",
    "Предположим, что Ася <b>тайно</b> бросает свои монеты, основываясь на определенном протоколе.\n",
    "\n",
    "Используя python, мы можем вычислить вероятности получения Асей орла и решки после трех бросков.\n",
    "\n",
    "<i><b>Примечание:</b> В задачах предыдущего ноутбука [Coin Flipping](B06_Coin_Flip.ipynb), идеальное соотношение легко вычислить. Кроме того, мы проводим наши эксперименты и после сравнивим наши результаты с идеальным соотношением. \n",
    "\n",
    "Тут мы вычислим точные вероятности (идеальное соотношение) используя python. (Не будем проводить эксперимент.)\n",
    "</i>\n",
    "\n",
    "Представим наше решение пошагово."
   ]
  },
  {
   "cell_type": "code",
   "execution_count": null,
   "metadata": {},
   "outputs": [],
   "source": [
    "#\n",
    "# OUR SOLUTION\n",
    "#\n",
    "\n",
    "# initial case\n",
    "# We assume that the probability of having head is 1 at the beginning,\n",
    "#    because Asja will start with one euro.\n",
    "prob_head = 1\n",
    "prob_tail = 0\n",
    "\n",
    "\n",
    "#\n",
    "# first coin-flip\n",
    "#\n",
    "\n",
    "# the new probability of head is calculated by using the first row \n",
    "new_prob_head = prob_head * 0.6 + prob_tail * 0.3\n",
    "\n",
    "# the new probability of tail is calculated by using the second row \n",
    "new_prob_tail = prob_head * 0.4 + prob_tail * 0.7\n",
    "\n",
    "# update the probabilities\n",
    "prob_head = new_prob_head\n",
    "prob_tail = new_prob_tail\n",
    "\n",
    "#\n",
    "# second coin-flip\n",
    "#\n",
    "# we do the same calculations\n",
    "\n",
    "new_prob_head = prob_head * 0.6 + prob_tail * 0.3\n",
    "new_prob_tail = prob_head * 0.4 + prob_tail * 0.7\n",
    "\n",
    "prob_head = new_prob_head\n",
    "prob_tail = new_prob_tail\n",
    "\n",
    "#\n",
    "# third coin-flip\n",
    "#\n",
    "# we do the same calculations\n",
    "\n",
    "new_prob_head = prob_head * 0.6 + prob_tail * 0.3\n",
    "new_prob_tail = prob_head * 0.4 + prob_tail * 0.7\n",
    "\n",
    "prob_head = new_prob_head\n",
    "prob_tail = new_prob_tail\n",
    "\n",
    "# print prob_head and prob_tail\n",
    "print(\"the probability of getting head after 3 coin tosses is\",round(prob_head,6))\n",
    "print(\"the probability of getting tail after 3 coin tosses is\",round(prob_tail,6))\n"
   ]
  },
  {
   "cell_type": "markdown",
   "metadata": {},
   "source": [
    "<h3> Task 2: Десять бросков предвзятых монет </h3>\n",
    "\n",
    "Используя python, вычислите вероятности получения Асей орла и решки после 10 бросков.\n",
    "\n",
    "$\n",
    "GameCoins = \\begin{array}{c|cc} & \\mathbf{Head} & \\mathbf{Tail} \\\\ \\hline \\mathbf{Head} & 0.6 & 0.3\\\\  \\mathbf{Tail} & 0.4 & 0.7  \\end{array} = \\begin{array}{c|cc} & \\mathbf{0} & \\mathbf{1} \\\\ \\hline \\mathbf{0} & 0.6 & 0.3 \\\\  \\mathbf{1} & 0.4 & 0.7  \\end{array}\n",
    "$\n",
    "\n",
    "Используйте операторы цикла для нахождения решения."
   ]
  },
  {
   "cell_type": "code",
   "execution_count": null,
   "metadata": {},
   "outputs": [],
   "source": [
    "#\n",
    "# your solution is here\n",
    "#\n"
   ]
  },
  {
   "cell_type": "markdown",
   "metadata": {},
   "source": [
    "<a href=\"B09_Coin_Flip_Game_Solutions.ipynb#task2\">click for our solution</a>"
   ]
  },
  {
   "cell_type": "markdown",
   "metadata": {},
   "source": [
    "<h3> Task 3</h3>\n",
    "\n",
    "Повторите Task 2 для 20, 30 и 50 бросков."
   ]
  },
  {
   "cell_type": "code",
   "execution_count": null,
   "metadata": {},
   "outputs": [],
   "source": [
    "#\n",
    "# your solution is here\n",
    "#\n"
   ]
  },
  {
   "cell_type": "markdown",
   "metadata": {},
   "source": [
    "<a href=\"B09_Coin_Flip_Game_Solutions.ipynb#task3\">click for our solution</a>"
   ]
  },
  {
   "cell_type": "markdown",
   "metadata": {},
   "source": [
    "<h3> Task 4</h3>\n",
    "\n",
    "Повторите Task 2 для 20, 30 и 50 бросков, используя разные начальные условия, т.е., \n",
    "    \n",
    "    prob_head = prob_tail = 1/2\n",
    "или\n",
    "    \n",
    "    prob_head = 0 \n",
    "    prob_tail = 1"
   ]
  },
  {
   "cell_type": "code",
   "execution_count": null,
   "metadata": {},
   "outputs": [],
   "source": [
    "#\n",
    "# your solution is here\n",
    "#\n"
   ]
  },
  {
   "cell_type": "markdown",
   "metadata": {},
   "source": [
    "<a href=\"B09_Coin_Flip_Game_Solutions.ipynb#task4\">click for our solution</a>"
   ]
  },
  {
   "cell_type": "markdown",
   "metadata": {},
   "source": [
    "<hr>"
   ]
  },
  {
   "cell_type": "markdown",
   "metadata": {},
   "source": [
    "<h3> Произвольные переходы в GameCoins [extra]</h3>\n",
    "\n",
    "Меняя значение предвзятости для каждой монеты Аси, мы можем определить произвольный GameCoins.\n",
    "\n",
    "Если $ a $ - вероятность получения орла для одного евро и $ b $ - вероятность получения орла для одного цента, тогда мы имеем следующие переходы:\n",
    "\n",
    "$\n",
    "GameCoins(a,b) = \\begin{array}{c|cc} & \\mathbf{Head} & \\mathbf{Tail} \\\\ \\hline \\mathbf{Head} & a & b\\\\  \\mathbf{Tail} & 1-a & 1-b  \\end{array} = \\begin{array}{c|cc} & \\mathbf{0} & \\mathbf{1} \\\\ \\hline \\mathbf{0} & a & b \\\\  \\mathbf{1} & 1-a & 1-b  \\end{array}\n",
    "$"
   ]
  },
  {
   "cell_type": "markdown",
   "metadata": {},
   "source": [
    "<h3> Task 5 </h3>\n",
    "\n",
    "Обратите внимание, что если $ a=1 $ и $ b = 0 $, тогда это оператор Тождественности (Identity), который не меняет первоначальное состояние.\n",
    "\n",
    "Если $ a=0 $ и $ b=1 $, тогда это оператор Отрицания (NOT). Оператор Отрицания меняет местами вероятности орла и решки. Если начальные вероятности не $ 0.5 $ и $ 0.5 $, то система никогда не сходится к фиксированным вероятностям."
   ]
  },
  {
   "cell_type": "code",
   "execution_count": null,
   "metadata": {},
   "outputs": [],
   "source": [
    "#\n",
    "# your solution is here\n",
    "#\n"
   ]
  },
  {
   "cell_type": "markdown",
   "metadata": {},
   "source": [
    "<h3> Task 6</h3>\n",
    "\n",
    "Произвольно выберите значения $ a $ и $ b $, далее реализуйте задачи 3 и 4 для $ GameCoins(a,b) $."
   ]
  },
  {
   "cell_type": "code",
   "execution_count": null,
   "metadata": {},
   "outputs": [],
   "source": [
    "#\n",
    "# your solution is here\n",
    "#\n"
   ]
  },
  {
   "cell_type": "markdown",
   "metadata": {},
   "source": [
    "<h3> Task 7</h3>\n",
    "\n",
    "10 раз повторите Task 6 и пронаблюдайте, сходится ли система при каждой итерации."
   ]
  },
  {
   "cell_type": "code",
   "execution_count": null,
   "metadata": {},
   "outputs": [],
   "source": [
    "#\n",
    "# your solution is here\n",
    "#\n"
   ]
  },
  {
   "cell_type": "markdown",
   "metadata": {},
   "source": [
    "<h3>Task 8</h3>\n",
    "\n",
    "Мы можем переписать произвольный GameCoins так \n",
    "\n",
    "$  \\begin{array}{c|cc} & \\mathbf{Head} & \\mathbf{Tail} \\\\ \\hline \\mathbf{Head} & 1-y & x\\\\  \\mathbf{Tail} & y & 1-x  \\end{array} = \\begin{array}{c|cc} & \\mathbf{0} & \\mathbf{1} \\\\ \\hline \\mathbf{0} & 1-y & x \\\\  \\mathbf{1} & y & 1-x  \\end{array}.\n",
    "$ \n",
    "\n",
    "Мы предполагаем, что We это ни оператор Тождественности, ни оператор Отрицания. Тогда, независимо от начального состояния, система всегда будет сходиться к \n",
    "\n",
    "$ Pr[\\mbox{\"head\"}] = \\dfrac{x}{x+y} $ and $ Pr[\\mbox{\"tail\"}]=\\dfrac{y}{x+y} $ \n",
    "\n",
    "как вероятности выпадения орла и решки соосветственно.\n",
    "\n",
    "Обратите внимание на этот факт при проверке результатов Задачи 7."
   ]
  },
  {
   "cell_type": "code",
   "execution_count": null,
   "metadata": {},
   "outputs": [],
   "source": [
    "#\n",
    "# your solution is here\n",
    "#\n"
   ]
  }
 ],
 "metadata": {
  "kernelspec": {
   "display_name": "Python 3",
   "language": "python",
   "name": "python3"
  },
  "language_info": {
   "codemirror_mode": {
    "name": "ipython",
    "version": 3
   },
   "file_extension": ".py",
   "mimetype": "text/x-python",
   "name": "python",
   "nbconvert_exporter": "python",
   "pygments_lexer": "ipython3",
   "version": "3.8.6"
  }
 },
 "nbformat": 4,
 "nbformat_minor": 2
}
