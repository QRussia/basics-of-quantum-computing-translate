{
 "cells": [
  {
   "cell_type": "markdown",
   "metadata": {},
   "source": [
    "<table><tr>\n",
    "    <td  style=\"background-color:#ffffff;text-align:left;\"><a href=\"http://qworld.lu.lv\" target=\"_blank\"><img src=\"images\\qworld.jpg\" width=\"30%\" align=\"left\"></a></td>\n",
    "    <td style=\"background-color:#ffffff;\">&nbsp;</td>\n",
    "    <td style=\"background-color:#ffffff;vertical-align:text-middle;text-align:right;\">\n",
    "        <table><tr style=\"background-color:white;\">\n",
    "            <td> Visit</td>\n",
    "            <td><a href=\"http://qworld.lu.lv\" target=\"_blank\"><img src=\"images/web-logo.png\" width=\"35px\"></a></td>\n",
    "            <td width=\"10pt\"></td>\n",
    "            <td> Join</td>\n",
    "            <td><a href=\"https://qworldworkspace.slack.com/\" target=\"_blank\"><img src=\"images/slack-icon.png\" width=\"80px\"></a></td>\n",
    "            <td width=\"10pt\"></td>\n",
    "            <td>Follow</td>\n",
    "            <td><a href=\"https://www.facebook.com/qworld19/\" target=\"_blank\"><img src=\"images/facebook-icon.png\" width=\"40px\"></a></td>\n",
    "            <td><a href=\"https://twitter.com/QWorld19\" target=\"_blank\"><img src=\"images/twitter-icon.png\" width=\"40px\"></a></td>\n",
    "        </tr></table>\n",
    "    </td>     \n",
    "</tr></table>"
   ]
  },
  {
   "cell_type": "markdown",
   "metadata": {},
   "source": [
    "<h1 align=\"center\" style=\"color: #cd7f32;\"> Welcome to QWorld's Bronze </h1>"
   ]
  },
  {
   "cell_type": "markdown",
   "metadata": {},
   "source": [
    "<font style=\"color: #cd7f32;size:+1;\"><b>Bronze</b></font> - наш материал для знакомства с основами квантовых вычислений и квантового программирования. Он представляет из себя большую коллекцию ноутбуков [Jupyter notebooks](https://jupyter.org).\n",
    "\n",
    "Bronze может быть использован для проведения двух- и трех-дневных воркшопов или для подготовки семестровых курсов для студентов второго или третьего года обучения. В Bronze мы сосредоточены на работе с действительными числами, для простоты материала комплексные числа не рассматриваются. Тут вы найдете полный список наших мероприятий по Bronze: <a href=\"http://qworld.lu.lv/index.php/workshop-bronze/#list\" target=\"_blank\">QBronze</a>. \n",
    "\n",
    "*Если вы впервые используете Jupyter ноутбуки, загляните в наше короткое введение <a href=\"python/Python02_Into_Notebooks.ipynb\" target=\"_blank\">Introduction for Notebooks</a>.*\n",
    "\n",
    "**Программные компоненты с открытым исходным кодом, которые мы используем**\n",
    "- Язык программирования: <a href=\"https://www.python.org\" target=\"_blank\">python</a>\n",
    "- Библиотеки квантового программирования:</u> <a href=\"https://qiskit.org\" target=\"_blank\">Qiskit</a> - на данный момент основная библиотека, используемая нами. Также мы работаем над расширением Bronze, а именно внедряем использование <a href=\"https://projectq.ch\" target=\"_blank\">ProjectQ</a>, <a href=\"https://github.com/quantumlib/Cirq\" target=\"_blank\">Cirq</a>, и <a href=\"http://docs.rigetti.com/en/stable/\" target=\"_blank\">pyQuil</a>.\n",
    "- Мы используем <a href=\"https://www.mathjax.org\" target=\"_blank\">MathJax</a> для отображения математических выражений в html-файлах (т.н., упражнения).\n",
    "- Мы используем open-source интерактивную среду <a href=\"http://play.quantumgame.io\" target=\"_blank\">quantumgame</a> для демонстрации экспериментов с квантовым 'подбросом монет'.\n",
    "\n",
    "**Support:** Используйте _канал #general под_ <a href=\"https://cutt.ly/jy3LiLD\" target=\"_blank\">QWorld's slack workspace</a> для ваших вопросов."
   ]
  },
  {
   "cell_type": "markdown",
   "metadata": {},
   "source": [
    "<h3 align=\"right\"><a href=\"content.ipynb\" style=\"color:#cd7f32;text-decoration:none;\">Перейти на страницу содержания >></a></h3>"
   ]
  }
 ],
 "metadata": {
  "kernelspec": {
   "display_name": "Python 3",
   "language": "python",
   "name": "python3"
  },
  "language_info": {
   "codemirror_mode": {
    "name": "ipython",
    "version": 3
   },
   "file_extension": ".py",
   "mimetype": "text/x-python",
   "name": "python",
   "nbconvert_exporter": "python",
   "pygments_lexer": "ipython3",
   "version": "3.8.6"
  }
 },
 "nbformat": 4,
 "nbformat_minor": 2
}
